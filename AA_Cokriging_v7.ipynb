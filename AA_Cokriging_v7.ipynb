{
 "cells": [
  {
   "cell_type": "code",
   "execution_count": 537,
   "id": "advisory-peeing",
   "metadata": {},
   "outputs": [],
   "source": [
    "import matplotlib as matplotlib\n",
    "import matplotlib.pyplot as plt\n",
    "import matplotlib.cm as cm\n",
    "import matplotlib.gridspec as gridspec\n",
    "from mpl_toolkits.axes_grid1 import make_axes_locatable\n",
    "import pandas as pd\n",
    "import sys\n",
    "import numpy as np\n",
    "import sklearn as sklearn\n",
    "import os\n",
    "import scipy\n",
    "from scipy import stats\n",
    "from tqdm import tqdm\n",
    "from scipy.spatial import distance_matrix\n",
    "from sklearn.metrics import mean_squared_error\n",
    "from tools_AA_IR import get_tif, reading_gps_file\n",
    "from tools_AA import slice_raw, path_sonde\n",
    "from tools_EL import readingtemp\n",
    "from scipy.optimize import minimize\n",
    "import geostatspy.geostats as geostats "
   ]
  },
  {
   "cell_type": "code",
   "execution_count": 538,
   "id": "recreational-thomas",
   "metadata": {},
   "outputs": [],
   "source": [
    "def dict_temp_sensor_function(date_1,date_2) :\n",
    "    \"\"\"\n",
    "    fonction créant un dictionnaire regroupant les DATAFRAMES tronquées aux dates souhaitées \n",
    "    \"\"\"\n",
    "    \n",
    "    ls_path = path_sonde()\n",
    "    dict_temp_sensor = {}\n",
    "    for i,ls_path_sonde in enumerate(ls_path):\n",
    "        name = ls_path_sonde[0][ls_path_sonde[0].find(\"S\"):(ls_path_sonde[0].find(\".csv\"))]\n",
    "        Raw = readingtemp(ls_path_sonde[0])\n",
    "        if name == \"S3AIR\" : #différence entre le nom du fichier et le reste du code.\n",
    "            name = \"S3-AIR\"\n",
    "        dict_temp_sensor[name] = slice_raw(Raw,date_1,date_2)\n",
    "        print(\"completed :\",name)\n",
    "    \n",
    "    return dict_temp_sensor\n",
    "\n",
    "    "
   ]
  },
  {
   "cell_type": "code",
   "execution_count": 539,
   "id": "eight-judge",
   "metadata": {},
   "outputs": [],
   "source": [
    "def Import_variogram(REQUESTED_IR,TEMP,TYPE) :\n",
    "    \"\"\"\n",
    "    Importation des données de variogrammes pré-calculés\n",
    "    variogram : dictionnaire contenant différents données issus du calcul des variogrammes\n",
    "    DataFrame : DataFrame contenant positions + valeurs \n",
    "    varc      : Variogrammes aux formats DataFrames\n",
    "    \"\"\"\n",
    "    if TYPE == \"Primary\" :\n",
    "        filename  = \"./varr/Primary_variogram/Boucle/\"+str(REQUESTED_IR)+\"_\"+str(TEMP)+\".npy\"\n",
    "        variogram = np.load(filename,allow_pickle='TRUE').item()\n",
    "        DataFrame = variogram[\"DataFrame\"]\n",
    "        varc      = variogram[\"Variogram\"]\n",
    "    \n",
    "    elif TYPE == \"Secondary\" :\n",
    "        filename  = \"./varr/Secondary_variogram/Boucle/\"+str(REQUESTED_IR)+\"_convex.npy\"\n",
    "        filename = \"./varr/Secondary_variogram/Boucle/\"+str(REQUESTED_IR)+\"_ech10_convex.npy\" \n",
    "        variogram = np.load(filename,allow_pickle='TRUE').item()\n",
    "        DataFrame = variogram[\"DataFrame\"]\n",
    "        varc      = variogram[\"Variogram\"]\n",
    "        \n",
    "    elif TYPE == \"Cross\" :\n",
    "        filename  = \"./varr/Cross_variogram/Boucle/\"+str(REQUESTED_IR)+\"_\"+str(TEMP)+\".npy\"\n",
    "        variogram = np.load(filename,allow_pickle='TRUE').item()\n",
    "        DataFrame = variogram[\"DataFrame\"]\n",
    "        varc      = variogram[\"Variogram\"]\n",
    "        \n",
    "    return variogram,DataFrame,varc\n",
    "        \n",
    "        "
   ]
  },
  {
   "cell_type": "markdown",
   "id": "deadly-background",
   "metadata": {},
   "source": [
    "# Loading"
   ]
  },
  {
   "cell_type": "markdown",
   "id": "noble-composer",
   "metadata": {},
   "source": [
    "### Importation des données"
   ]
  },
  {
   "cell_type": "code",
   "execution_count": 540,
   "id": "established-latin",
   "metadata": {},
   "outputs": [
    {
     "data": {
      "text/plain": [
       "dict_keys(['IR_6H55', 'IR_7H29', 'IR_8H22', 'IR_9H28', 'IR_10H22', 'IR_11H27', 'IR_12H31', 'IR_13H26', 'IR_15H59', 'IR_17H27'])"
      ]
     },
     "execution_count": 540,
     "metadata": {},
     "output_type": "execute_result"
    }
   ],
   "source": [
    "## Package d'importation \n",
    "dict_IR_Df = np.load(\"dict_IR_Df.npy\",allow_pickle='TRUE').item()\n",
    "dict_IR_Df.keys()"
   ]
  },
  {
   "cell_type": "code",
   "execution_count": 541,
   "id": "capital-penalty",
   "metadata": {},
   "outputs": [],
   "source": [
    "REQUESTED_IR = \"IR_9H28\"\n",
    "TEMP = \"T4\""
   ]
  },
  {
   "cell_type": "markdown",
   "id": "electoral-western",
   "metadata": {},
   "source": [
    "### Données de température (Z)"
   ]
  },
  {
   "cell_type": "code",
   "execution_count": 542,
   "id": "negative-brand",
   "metadata": {},
   "outputs": [],
   "source": [
    "Primary_variogram,Primary,varc_1 = Import_variogram(REQUESTED_IR,TEMP,\"Primary\") "
   ]
  },
  {
   "cell_type": "code",
   "execution_count": 543,
   "id": "exact-words",
   "metadata": {
    "scrolled": false
   },
   "outputs": [
    {
     "data": {
      "text/plain": [
       "dict_keys(['DataFrame', 'Variogram', 'sensor', 'IR_time'])"
      ]
     },
     "execution_count": 543,
     "metadata": {},
     "output_type": "execute_result"
    }
   ],
   "source": [
    "Primary_variogram.keys()"
   ]
  },
  {
   "cell_type": "code",
   "execution_count": 544,
   "id": "documentary-cisco",
   "metadata": {},
   "outputs": [],
   "source": [
    "original_variance_z = Primary_variogram[\"DataFrame\"][\"T4\"].var()\n",
    "original_mean_z = Primary_variogram[\"DataFrame\"][\"T4\"].mean()"
   ]
  },
  {
   "cell_type": "code",
   "execution_count": 545,
   "id": "sharp-solution",
   "metadata": {},
   "outputs": [],
   "source": [
    "## En cas de sauvegarde, comparaison sur Surfer\n",
    "condition = False\n",
    "if condition :\n",
    "    Primary_variogram[\"DataFrame\"].to_csv(\"test_krg.csv\")"
   ]
  },
  {
   "cell_type": "markdown",
   "id": "owned-resident",
   "metadata": {},
   "source": [
    "### Données du drone (Y)"
   ]
  },
  {
   "cell_type": "code",
   "execution_count": 546,
   "id": "reflected-short",
   "metadata": {},
   "outputs": [],
   "source": [
    "Secondary_variogram,Secondary,varc_2 = Import_variogram(REQUESTED_IR,TEMP,\"Secondary\") "
   ]
  },
  {
   "cell_type": "code",
   "execution_count": 547,
   "id": "human-criminal",
   "metadata": {},
   "outputs": [
    {
     "data": {
      "text/plain": [
       "dict_keys(['DataFrame', 'Variogram', 'enchantillonage', 'IR_time'])"
      ]
     },
     "execution_count": 547,
     "metadata": {},
     "output_type": "execute_result"
    }
   ],
   "source": [
    "Secondary_variogram.keys()"
   ]
  },
  {
   "cell_type": "code",
   "execution_count": 548,
   "id": "greek-thriller",
   "metadata": {
    "scrolled": true
   },
   "outputs": [
    {
     "data": {
      "text/html": [
       "<div>\n",
       "<style scoped>\n",
       "    .dataframe tbody tr th:only-of-type {\n",
       "        vertical-align: middle;\n",
       "    }\n",
       "\n",
       "    .dataframe tbody tr th {\n",
       "        vertical-align: top;\n",
       "    }\n",
       "\n",
       "    .dataframe thead th {\n",
       "        text-align: right;\n",
       "    }\n",
       "</style>\n",
       "<table border=\"1\" class=\"dataframe\">\n",
       "  <thead>\n",
       "    <tr style=\"text-align: right;\">\n",
       "      <th></th>\n",
       "      <th>X</th>\n",
       "      <th>Y</th>\n",
       "      <th>band 1</th>\n",
       "      <th>Secondary</th>\n",
       "    </tr>\n",
       "  </thead>\n",
       "  <tbody>\n",
       "    <tr>\n",
       "      <th>0</th>\n",
       "      <td>523628.710</td>\n",
       "      <td>5.366174e+06</td>\n",
       "      <td>7.034997</td>\n",
       "      <td>-0.104540</td>\n",
       "    </tr>\n",
       "    <tr>\n",
       "      <th>1</th>\n",
       "      <td>523628.710</td>\n",
       "      <td>5.366175e+06</td>\n",
       "      <td>7.159491</td>\n",
       "      <td>-0.013046</td>\n",
       "    </tr>\n",
       "    <tr>\n",
       "      <th>2</th>\n",
       "      <td>523628.710</td>\n",
       "      <td>5.366175e+06</td>\n",
       "      <td>7.542570</td>\n",
       "      <td>0.268489</td>\n",
       "    </tr>\n",
       "    <tr>\n",
       "      <th>3</th>\n",
       "      <td>523628.710</td>\n",
       "      <td>5.366176e+06</td>\n",
       "      <td>7.740776</td>\n",
       "      <td>0.414155</td>\n",
       "    </tr>\n",
       "    <tr>\n",
       "      <th>4</th>\n",
       "      <td>523628.710</td>\n",
       "      <td>5.366177e+06</td>\n",
       "      <td>7.329526</td>\n",
       "      <td>0.111917</td>\n",
       "    </tr>\n",
       "    <tr>\n",
       "      <th>...</th>\n",
       "      <td>...</td>\n",
       "      <td>...</td>\n",
       "      <td>...</td>\n",
       "      <td>...</td>\n",
       "    </tr>\n",
       "    <tr>\n",
       "      <th>317332</th>\n",
       "      <td>523696.655</td>\n",
       "      <td>5.366295e+06</td>\n",
       "      <td>4.240493</td>\n",
       "      <td>-2.158290</td>\n",
       "    </tr>\n",
       "    <tr>\n",
       "      <th>317333</th>\n",
       "      <td>523696.655</td>\n",
       "      <td>5.366295e+06</td>\n",
       "      <td>4.327398</td>\n",
       "      <td>-2.094422</td>\n",
       "    </tr>\n",
       "    <tr>\n",
       "      <th>317334</th>\n",
       "      <td>523696.655</td>\n",
       "      <td>5.366296e+06</td>\n",
       "      <td>4.453441</td>\n",
       "      <td>-2.001790</td>\n",
       "    </tr>\n",
       "    <tr>\n",
       "      <th>317335</th>\n",
       "      <td>523696.655</td>\n",
       "      <td>5.366296e+06</td>\n",
       "      <td>4.334847</td>\n",
       "      <td>-2.088947</td>\n",
       "    </tr>\n",
       "    <tr>\n",
       "      <th>317336</th>\n",
       "      <td>523696.655</td>\n",
       "      <td>5.366297e+06</td>\n",
       "      <td>4.456080</td>\n",
       "      <td>-1.999850</td>\n",
       "    </tr>\n",
       "  </tbody>\n",
       "</table>\n",
       "<p>317337 rows × 4 columns</p>\n",
       "</div>"
      ],
      "text/plain": [
       "                 X             Y    band 1  Secondary\n",
       "0       523628.710  5.366174e+06  7.034997  -0.104540\n",
       "1       523628.710  5.366175e+06  7.159491  -0.013046\n",
       "2       523628.710  5.366175e+06  7.542570   0.268489\n",
       "3       523628.710  5.366176e+06  7.740776   0.414155\n",
       "4       523628.710  5.366177e+06  7.329526   0.111917\n",
       "...            ...           ...       ...        ...\n",
       "317332  523696.655  5.366295e+06  4.240493  -2.158290\n",
       "317333  523696.655  5.366295e+06  4.327398  -2.094422\n",
       "317334  523696.655  5.366296e+06  4.453441  -2.001790\n",
       "317335  523696.655  5.366296e+06  4.334847  -2.088947\n",
       "317336  523696.655  5.366297e+06  4.456080  -1.999850\n",
       "\n",
       "[317337 rows x 4 columns]"
      ]
     },
     "execution_count": 548,
     "metadata": {},
     "output_type": "execute_result"
    }
   ],
   "source": [
    "Secondary_variogram[\"DataFrame\"]"
   ]
  },
  {
   "cell_type": "code",
   "execution_count": 549,
   "id": "concerned-motivation",
   "metadata": {},
   "outputs": [],
   "source": [
    "original_variance_y = Secondary_variogram[\"DataFrame\"][\"band 1\"].var()\n",
    "original_mean_y = Secondary_variogram[\"DataFrame\"][\"band 1\"].mean()"
   ]
  },
  {
   "cell_type": "code",
   "execution_count": 550,
   "id": "raising-reservoir",
   "metadata": {
    "scrolled": true
   },
   "outputs": [
    {
     "data": {
      "text/plain": [
       "10"
      ]
     },
     "execution_count": 550,
     "metadata": {},
     "output_type": "execute_result"
    }
   ],
   "source": [
    "Secondary_variogram[\"enchantillonage\"]"
   ]
  },
  {
   "cell_type": "code",
   "execution_count": 551,
   "id": "adapted-insured",
   "metadata": {},
   "outputs": [],
   "source": [
    "## En cas de sauvegarde, comparaison sur Surfer\n",
    "condition = False\n",
    "if condition :\n",
    "    Secondary_variogram[\"DataFrame\"].to_csv(\"9h28_to_surfer_ech_10.csv\")"
   ]
  },
  {
   "cell_type": "markdown",
   "id": "instant-tattoo",
   "metadata": {},
   "source": [
    "### Données croisées (on peut s'en passer)"
   ]
  },
  {
   "cell_type": "code",
   "execution_count": 552,
   "id": "hawaiian-proposition",
   "metadata": {},
   "outputs": [],
   "source": [
    "Cross_variogram,Cross,varc_3 = Import_variogram(REQUESTED_IR,TEMP,\"Cross\") "
   ]
  },
  {
   "cell_type": "code",
   "execution_count": 553,
   "id": "strategic-street",
   "metadata": {},
   "outputs": [],
   "source": [
    "Primary = Cross_variogram[\"DataFrame\"]"
   ]
  },
  {
   "cell_type": "code",
   "execution_count": 554,
   "id": "written-reunion",
   "metadata": {},
   "outputs": [
    {
     "data": {
      "text/plain": [
       "dict_keys(['DataFrame', 'Variogram', 'sensor', 'IR_time'])"
      ]
     },
     "execution_count": 554,
     "metadata": {},
     "output_type": "execute_result"
    }
   ],
   "source": [
    "Cross_variogram.keys()"
   ]
  },
  {
   "cell_type": "code",
   "execution_count": 555,
   "id": "homeless-adjustment",
   "metadata": {},
   "outputs": [
    {
     "name": "stdout",
     "output_type": "stream",
     "text": [
      "Variance of Z : 1.0\n"
     ]
    }
   ],
   "source": [
    "value_z = Primary[\"Primary\"].values\n",
    "varr_z = np.var(value_z) # Variance \n",
    "varr_z = float(\"{:.2f}\".format(varr_z))\n",
    "print(\"Variance of Z :\", varr_z)"
   ]
  },
  {
   "cell_type": "code",
   "execution_count": 556,
   "id": "convinced-pencil",
   "metadata": {},
   "outputs": [
    {
     "name": "stdout",
     "output_type": "stream",
     "text": [
      "Variance of Y : 1.0\n"
     ]
    }
   ],
   "source": [
    "value_y = Secondary[\"Secondary\"].values\n",
    "varr_y = np.var(value_y) # Variance \n",
    "varr_y = float(\"{:.2f}\".format(varr_y))\n",
    "print(\"Variance of Y :\",varr_y)"
   ]
  },
  {
   "cell_type": "code",
   "execution_count": 557,
   "id": "accredited-finance",
   "metadata": {
    "scrolled": false
   },
   "outputs": [
    {
     "name": "stdout",
     "output_type": "stream",
     "text": [
      "Cross Correlation coefficient : 0.871623491845341\n"
     ]
    }
   ],
   "source": [
    "value_c = Cross[\"Secondary\"].values\n",
    "varr_c = np.corrcoef(Cross[\"Primary\"], Cross[\"Secondary\"])[0, 1]\n",
    "print(\"Cross Correlation coefficient :\",varr_c)"
   ]
  },
  {
   "cell_type": "markdown",
   "id": "processed-roman",
   "metadata": {},
   "source": [
    "## Visualisation des Correlogrammes"
   ]
  },
  {
   "cell_type": "code",
   "execution_count": 558,
   "id": "bearing-faculty",
   "metadata": {},
   "outputs": [
    {
     "data": {
      "text/plain": [
       "array([ 1.65467602,  0.2028511 , -0.99480555,  0.1979062 ,  1.54391009,\n",
       "       -0.26295921, -0.08889845, -0.81481091, -1.43786929])"
      ]
     },
     "execution_count": 558,
     "metadata": {},
     "output_type": "execute_result"
    }
   ],
   "source": [
    "Primary[\"Primary\"].values"
   ]
  },
  {
   "cell_type": "code",
   "execution_count": 559,
   "id": "greenhouse-disposal",
   "metadata": {
    "scrolled": true
   },
   "outputs": [],
   "source": [
    "condition = False\n",
    "if condition :\n",
    "    \n",
    "    ones = np.zeros(shape=(100))\n",
    "    Cross_ones = np.zeros(shape=(100))\n",
    "    H = np.zeros(shape=(100))\n",
    "    Corr_labels = [\n",
    "        \"Primary Correlogram\",\n",
    "        \"Secondary Correlogram\",\n",
    "        \"Cross Correlogram\",\n",
    "    ]\n",
    "    Directions = [\"Major\", \"Minor\"]\n",
    "    colors = [\"Grey\", \"Blue\", \"Orange\"]\n",
    "    labels_2 = [\"$\\u03C1_{z}$\", \"$\\u03C1_{y}$\", \"$\\u03C1_{zy}$\"]\n",
    "    Sill_vals = [varr_z, varr_y, varr_c]\n",
    "    for h in range(1, 100):\n",
    "        H[h] = h\n",
    "    fig, axes = plt.subplots(2, 3, figsize=(15, 10))\n",
    "    for i in range(0, 3):\n",
    "        var = locals()[\"varc_{}\".format(i + 1)]\n",
    "        for j in range(0, 2):\n",
    "            axes[j, i].plot(\n",
    "                var[\"Lag Distance\"][var[\"Variogram Index\"] == (j + 1)],\n",
    "                Sill_vals[i]\n",
    "                - var[\"Variogram Value\"][var[\"Variogram Index\"] == (j + 1)],\n",
    "                \"o\",\n",
    "                color=colors[i],\n",
    "            )\n",
    "            axes[j, i].set_ylabel(labels_2[i], size=35)\n",
    "            axes[j, i].plot(H, ones, color=\"Black\")\n",
    "            axes[j, i].set_xlabel(\"h\", size=35)\n",
    "            axes[j, i].set_title(Corr_labels[i] + \" \" + Directions[j] +\"\\n\"+ REQUESTED_IR +' : '+ TEMP, size=15)\n",
    "    plt.setp(axes, xlim=(0, 100))\n",
    "    plt.tight_layout()\n",
    "\n",
    "    #plt.savefig('true_variograms.png', bbox_inches=\"tight\", dpi=300)"
   ]
  },
  {
   "cell_type": "markdown",
   "id": "thick-kennedy",
   "metadata": {},
   "source": [
    "## Boucle Boucle Boucle"
   ]
  },
  {
   "cell_type": "code",
   "execution_count": 560,
   "id": "stable-title",
   "metadata": {},
   "outputs": [],
   "source": [
    "condition = False\n",
    "if condition :  \n",
    "    for requested_IR in dict_IR_Df :\n",
    "        for temp in [\"T1\",\"T2\",\"T3\",\"T4\"] :\n",
    "            Primary_variogram,Primary,varc_1 = Import_variogram(requested_IR,temp,\"Primary\") \n",
    "            Secondary_variogram,Secondary,varc_2 = Import_variogram(requested_IR,temp,\"Secondary\") \n",
    "            Cross_variogram,Cross,varc_3 = Import_variogram(requested_IR,temp,\"Cross\") \n",
    "            value_z = Primary[\"Primary\"].values\n",
    "            varr_z = np.var(value_z) # Variance \n",
    "            varr_z = float(\"{:.2f}\".format(varr_z))\n",
    "\n",
    "            value_y = Secondary[\"Secondary\"].values\n",
    "            varr_y = np.var(value_y) # Variance \n",
    "            varr_y = float(\"{:.2f}\".format(varr_y))\n",
    "\n",
    "            value_c = Cross[\"Secondary\"].values\n",
    "            varr_c = np.corrcoef(Cross[\"Primary\"], Cross[\"Secondary\"])[0, 1]\n",
    "            print(\"Cross Correlation coefficient,\",requested_IR,temp,\":\",varr_c)\n",
    "\n",
    "            ones = np.zeros(shape=(100))\n",
    "            Cross_ones = np.zeros(shape=(100))\n",
    "            H = np.zeros(shape=(100))\n",
    "            Corr_labels = [\n",
    "                \"Primary Correlogram\",\n",
    "                \"Secondary Correlogram\",\n",
    "                \"Cross Correlogram\",\n",
    "            ]\n",
    "            Directions = [\"Major\", \"Minor\"]\n",
    "            colors = [\"Grey\", \"Blue\", \"Orange\"]\n",
    "            labels_2 = [\"$\\u03C1_{z}$\", \"$\\u03C1_{y}$\", \"$\\u03C1_{zy}$\"]\n",
    "            Sill_vals = [varr_z, varr_y, varr_c]\n",
    "            for h in range(1, 100):\n",
    "                H[h] = h\n",
    "            fig, axes = plt.subplots(2, 3, figsize=(15, 10))\n",
    "            for i in range(0, 3):\n",
    "                var = locals()[\"varc_{}\".format(i + 1)]\n",
    "                for j in range(0, 2):\n",
    "                    axes[j, i].plot(\n",
    "                        var[\"Lag Distance\"][var[\"Variogram Index\"] == (j + 1)],\n",
    "                        Sill_vals[i]\n",
    "                        - var[\"Variogram Value\"][var[\"Variogram Index\"] == (j + 1)],\n",
    "                        \"o\",\n",
    "                        color=colors[i],\n",
    "                    )\n",
    "                    axes[j, i].set_ylabel(labels_2[i], size=20)\n",
    "                    axes[j, i].plot(H, ones, color=\"Black\")\n",
    "                    axes[j, i].set_xlabel(\"h\", size=20)\n",
    "                    axes[j, i].set_title(Corr_labels[i] + \" \" + Directions[j] +\"\\n\"+ requested_IR +' : '+ temp, size=15)\n",
    "            plt.setp(axes, xlim=(0, 100),ylim=(-0.3, 1))\n",
    "            plt.subplots_adjust(wspace=0.4,hspace=0.4)\n",
    "\n",
    "            SAVE = True\n",
    "            if SAVE :\n",
    "                fileout = \"./varr/Correlogram_export/\"+str(requested_IR)+\"_\"+str(temp)+\".png\"\n",
    "                plt.savefig(fileout, bbox_inches=\"tight\")"
   ]
  },
  {
   "cell_type": "markdown",
   "id": "standard-tuner",
   "metadata": {},
   "source": [
    "## Initialize Correlogram Types "
   ]
  },
  {
   "cell_type": "code",
   "execution_count": 561,
   "id": "preliminary-melbourne",
   "metadata": {},
   "outputs": [],
   "source": [
    "def covar(t, d, r):\n",
    "    h = d / r\n",
    "    if t == 1:  # Spherical\n",
    "        c = (1 - h * (1.5 - 0.5 * np.square(h)))\n",
    "        c[h > 1] = 0\n",
    "    elif t == 2:  # Exponential\n",
    "        c = (np.exp(-3 * h))\n",
    "    elif t == 3:  # Gaussian\n",
    "        c = (np.exp(-3 * np.square(h)))\n",
    "    return c"
   ]
  },
  {
   "cell_type": "code",
   "execution_count": 562,
   "id": "perceived-membership",
   "metadata": {},
   "outputs": [],
   "source": [
    "def Rot_Mat(Azimuth, a_max, a_min):\n",
    "    theta = (Azimuth / 180.0) * np.pi\n",
    "    Rot_Mat = np.dot(\n",
    "        np.array([[1 / a_max, 0], [0, 1 / a_min]]),\n",
    "        np.array(\n",
    "            [\n",
    "                [np.cos(theta), np.sin(theta)],\n",
    "                [-np.sin(theta), np.cos(theta)],\n",
    "            ]\n",
    "        ),\n",
    "    )\n",
    "    return Rot_Mat"
   ]
  },
  {
   "cell_type": "markdown",
   "id": "executed-aluminum",
   "metadata": {},
   "source": [
    "### Pré-allocation des matrices"
   ]
  },
  {
   "cell_type": "code",
   "execution_count": 563,
   "id": "wicked-posting",
   "metadata": {},
   "outputs": [],
   "source": [
    "# Define some matrices for storing variogram values\n",
    "LENGTH = 100\n",
    "cy = np.zeros(shape=(LENGTH + 1))\n",
    "cz_True = np.zeros(shape=(LENGTH + 1))\n",
    "cr = np.zeros(shape=(LENGTH + 1))\n",
    "cz = np.zeros(shape=(LENGTH + 1))\n",
    "czy = np.zeros(shape=(LENGTH + 1))\n",
    "H = np.zeros(shape=(LENGTH + 1))\n",
    "ones = np.zeros(shape=(LENGTH + 1))\n",
    "Sill_vals = [varr_z,varr_y,1] ## !!\n",
    "\n",
    "### Plottting labels \n",
    "colors = [\"Red\", \"Green\"]\n",
    "labels_2 = [\"$\\u03C1_{z}$\", \"$\\u03C1_{y}$\", \"$\\u03C1_{zy}$\"]\n",
    "\n",
    "Corr_labels = [\n",
    "    \"Primary Correlogram\",\n",
    "    \"Secondary Correlogram\",\n",
    "    \"Cross Correlogram\"]\n",
    "\n",
    "labels_1 = [\n",
    "    \"$\\hat{\\u03C1_{z}}$\",\n",
    "    \"$\\hat{\\u03C1_{y}}$\",\n",
    "    \"$\\hat{\\u03C1_{zy}}$\",\n",
    "]\n",
    "labels_MM = [\n",
    "    \"$\\u03C1_{z_{Model}}$\",\n",
    "    \"$\\u03C1_{y_{Model}}$\",\n",
    "    \"$\\u03C1_{z_{MMII}}$\",\n",
    "]\n",
    "\n",
    "Cross_ones = np.zeros(shape=(101))\n"
   ]
  },
  {
   "cell_type": "markdown",
   "id": "intermediate-ambassador",
   "metadata": {},
   "source": [
    "# Single Model  (Z)"
   ]
  },
  {
   "cell_type": "markdown",
   "id": "australian-mambo",
   "metadata": {},
   "source": [
    "### Correlogram function  (Z)"
   ]
  },
  {
   "cell_type": "code",
   "execution_count": 564,
   "id": "sealed-access",
   "metadata": {},
   "outputs": [],
   "source": [
    "# h1 = Set of points X,Y\n",
    "# h2 = Set of points X,Y\n",
    "# k = 0 used for calculating the distance between the same points\n",
    "# k = 1 used for calculationg distance between different points\n",
    "# k = 2 used for plotting in the major direction\n",
    "# k = 3 used for plotting in the minor direction\n",
    "def C_Z_alternate(h1, h2, k,a_max,a_min,vtype = [3],cc = [1],nstruct = 1):\n",
    "    C = []\n",
    "    #nstruct = 1\n",
    "    #vtype = [3] \n",
    "    #a_max = [24]\n",
    "    #a_min = [16]\n",
    "    Azimuth = 45\n",
    "    #cc = [1]\n",
    "    c = 0\n",
    "    for i in range(nstruct):\n",
    "        Q1 = h1.copy()\n",
    "        Q2 = h2.copy()\n",
    "        if k == 0:\n",
    "            d = distance_matrix(\n",
    "                np.matmul(Q1, Rot_Mat(Azimuth, a_max[i], a_min[i])),\n",
    "                np.matmul(Q2, Rot_Mat(Azimuth, a_max[i], a_min[i])),\n",
    "            )\n",
    "        elif k == 1:\n",
    "            d = np.sqrt(\n",
    "                np.square(\n",
    "                    (np.matmul(Q1, Rot_Mat(Azimuth, a_max[i], a_min[i])))\n",
    "                    - np.tile(\n",
    "                        (\n",
    "                            np.matmul(\n",
    "                                Q2, Rot_Mat(Azimuth, a_max[i], a_min[i])\n",
    "                            )\n",
    "                        ),\n",
    "                        (k, 1),\n",
    "                    )\n",
    "                ).sum(axis=1)\n",
    "            )\n",
    "            d = np.asarray(d).reshape(len(d))\n",
    "        elif k == 2:\n",
    "            d = Q1 / a_max[i]\n",
    "        elif k == 3:\n",
    "            d = Q1 / a_min[i]\n",
    "        c = c + covar(vtype[i], d, 1) * cc[i] \n",
    "    return c"
   ]
  },
  {
   "cell_type": "markdown",
   "id": "following-mortality",
   "metadata": {},
   "source": [
    "### Minimize function  (Z)"
   ]
  },
  {
   "cell_type": "code",
   "execution_count": 565,
   "id": "encouraging-intersection",
   "metadata": {},
   "outputs": [],
   "source": [
    "def optimize_RMSE_single_model(x, args):\n",
    "    \"\"\"\n",
    "    args : args[0] correspond au DataFrame ; args[1] correspond à la Sill_value (= 1)\n",
    "    gamma= b*spherical(a_min,a_max)\n",
    "    \"\"\"\n",
    "    \n",
    "    var = args[0][args[0][\"Variogram Value\"] != -999]\n",
    "    Sill_value = args[1] # Variance des données\n",
    "    t = args[2] # chosit le type de model\n",
    "    RMSE = [] # Liste des valeurs RMSE\n",
    "    Direction = [\"Major\"]\n",
    "    \n",
    "    for i,Dir in enumerate(Direction) :\n",
    "        c = [] # liste des covario\n",
    "        a_range = x[0] # range\n",
    "        b = x[1]       # effet pépite\n",
    "        \n",
    "        variogram_lag = var[\"Lag Distance\"][var[\"Variogram Index\"] == float(i+1)] # 1.0 Major / 2.0 Minor\n",
    "        variogram_value = Sill_value - var[\"Variogram Value\"][var[\"Variogram Index\"] == float(i+1)] # 1.0 Major / 2.0 Minor\n",
    "        lag_value = variogram_lag / a_range # valeurs des lags / range\n",
    "        \n",
    "        \n",
    "        for h in lag_value:\n",
    "            if t == \"Spherical\":  # Spherical\n",
    "                if h > 1.0 :\n",
    "                    MODEL = 0\n",
    "                else :\n",
    "                    MODEL = b* (1 - h * (1.5 - 0.5 * np.square(h)))\n",
    "                \n",
    "            elif t == \"Exponentiel\" :  # Exponential\n",
    "                MODEL = b* (np.exp(-3 * h))\n",
    "            elif t == \"Gaussien\":  # Gaussian\n",
    "                MODEL = b*(np.exp(-3 * np.square(h)))\n",
    "                \n",
    "            c.append(MODEL)\n",
    "            \n",
    "        RMSE.append(np.sqrt(mean_squared_error(variogram_value,c)))\n",
    "        \n",
    "    return sum(RMSE)"
   ]
  },
  {
   "cell_type": "code",
   "execution_count": 566,
   "id": "deadly-spoke",
   "metadata": {},
   "outputs": [
    {
     "name": "stdout",
     "output_type": "stream",
     "text": [
      "     fun: 0.5535809194895587\n",
      "     jac: array([-2.30917206e-07, -8.51098404e-07])\n",
      " message: 'Converged (|f_n-f_(n-1)| ~= 0)'\n",
      "    nfev: 130\n",
      "     nit: 10\n",
      "  status: 1\n",
      " success: True\n",
      "       x: array([40.34420621,  2.98176316])\n",
      "a_max_z : 40.0\n",
      "b_z : 2.98\n"
     ]
    }
   ],
   "source": [
    "MODEL_type = [\"Spherical\",\"Exponentiel\",\"Gaussien\"]  # Type de model\n",
    "\n",
    "# Allocation des constantes \n",
    "a_max0, b0 = 100, 1 # range , effet pepite\n",
    "x0 = np.array([a_max0, b0])\n",
    "Model_name =  MODEL_type[1] # Model type\n",
    "\n",
    "var, Sill_value,= varc_1, Sill_vals[0] # variogram , Variance\n",
    "args = np.array([var,Sill_value,Model_name])\n",
    "\n",
    "# Boundaries \n",
    "Bounds = [[1,150], [0,5]]\n",
    "\n",
    "# Minimize\n",
    "single_model = minimize(optimize_RMSE_single_model,x0,args = args,\n",
    "                            method='TNC', jac = '3-point',\n",
    "                            bounds = Bounds,tol = 1e-9)\n",
    "\n",
    "a_max_z, b_z = single_model.x\n",
    "a_min_z = a_max_z\n",
    "print(single_model)\n",
    "\n",
    "#Réduit la précision des variables \n",
    "name_var = [\"a_max_z\", \"b_z\"]\n",
    "number_var = [a_max_z, b_z]\n",
    "for name,number in zip(name_var,number_var) :\n",
    "    \n",
    "    if name == \"b_z\" :\n",
    "        locals()[f\"{name}\"] = float(\"{:.2f}\".format(number))\n",
    "    else :\n",
    "        locals()[f\"{name}\"] = float(\"{:.0f}\".format(number))\n",
    "    print(name,\":\",locals()[f\"{name}\"])"
   ]
  },
  {
   "cell_type": "markdown",
   "id": "stopped-pattern",
   "metadata": {},
   "source": [
    "###  Visualisation du model Z"
   ]
  },
  {
   "cell_type": "code",
   "execution_count": 567,
   "id": "guilty-foundation",
   "metadata": {},
   "outputs": [],
   "source": [
    "MODEL ={\"Spherical\" : 1,\n",
    "        \"Exponentiel\" : 2,\n",
    "        \"Gaussien\" : 3} # Type de model\n",
    "a_max = a_max_z\n",
    "a_min = a_max_z\n",
    "cc_z = [b_z]\n",
    "vtype_z = [MODEL[Model_name]] # !!! # Type de model"
   ]
  },
  {
   "cell_type": "code",
   "execution_count": 568,
   "id": "sweet-alliance",
   "metadata": {},
   "outputs": [
    {
     "data": {
      "image/png": "[encoded data removed]",
      "text/plain": [
       "<Figure size 720x864 with 2 Axes>"
      ]
     },
     "metadata": {
      "needs_background": "light"
     },
     "output_type": "display_data"
    }
   ],
   "source": [
    "varg_type = 2  # See Correlogram Functions\n",
    "k = 0 # Permet de changer de direction\n",
    "\n",
    "fig, axes = plt.subplots(2,1, figsize=(10, 12))\n",
    "\n",
    "for s in range(2) :\n",
    "    for h in range(0, LENGTH + 1):\n",
    "        # Calcul Correlogram model Z\n",
    "        cz_True[h] = C_Z_alternate(np.matrix(h), np.matrix(h),varg_type,[a_max],[a_min],vtype_z,cc_z)\n",
    "        H[h] = h\n",
    "        MM_vargs = [ cz_True,cy,czy ]\n",
    "\n",
    "        # Label Display \n",
    "    for i in [0]:\n",
    "        LABEL =  \"range = {}\".format(a_max)\n",
    "        axes[s].plot(H, MM_vargs[i], label=LABEL)\n",
    "        var = locals()[\"varc_{}\".format(i + 1)]\n",
    "\n",
    "        # Calcul des valeurs de Correlogram à partir du variogram\n",
    "    for h in range(1, LENGTH):\n",
    "        H[h] = h\n",
    "        for j in np.arange(1):\n",
    "            axes[s].plot(\n",
    "                var[\"Lag Distance\"][var[\"Variogram Index\"] == (j + 1)],\n",
    "                Sill_vals[i]\n",
    "                - var[\"Variogram Value\"][var[\"Variogram Index\"] == (j + 1)],\n",
    "                \"o\",\n",
    "                color=colors[i],\n",
    "            )\n",
    "            axes[s].set_ylabel(labels_2[i], size=20)\n",
    "            axes[s].plot(H, ones, color=\"Black\")\n",
    "            axes[s].set_xlabel(\"h\", size=35)\n",
    "            axes[s].set_title(\"Model :1.3 Spherical\", size=15)\n",
    "            axes[s].legend(loc=\"best\", prop={\"size\": 15})\n",
    "            axes[s].grid()\n",
    "    plt.setp(axes, xlim=(0, 100))\n",
    "    plt.tight_layout()\n",
    "\n",
    "# Ici pas de direction précise, à inclure dans une loop le cas échéant\n",
    "    varg_type = varg_type + 1\n",
    "    k +=1"
   ]
  },
  {
   "cell_type": "markdown",
   "id": "diverse-protocol",
   "metadata": {},
   "source": [
    "# Dual Model  (Y)"
   ]
  },
  {
   "cell_type": "code",
   "execution_count": 569,
   "id": "sudden-delivery",
   "metadata": {},
   "outputs": [
    {
     "data": {
      "text/html": [
       "<div>\n",
       "<style scoped>\n",
       "    .dataframe tbody tr th:only-of-type {\n",
       "        vertical-align: middle;\n",
       "    }\n",
       "\n",
       "    .dataframe tbody tr th {\n",
       "        vertical-align: top;\n",
       "    }\n",
       "\n",
       "    .dataframe thead th {\n",
       "        text-align: right;\n",
       "    }\n",
       "</style>\n",
       "<table border=\"1\" class=\"dataframe\">\n",
       "  <thead>\n",
       "    <tr style=\"text-align: right;\">\n",
       "      <th></th>\n",
       "      <th>Lag Distance</th>\n",
       "      <th>Number of Pairs</th>\n",
       "      <th>Variogram Value</th>\n",
       "      <th>Variogram Index</th>\n",
       "    </tr>\n",
       "  </thead>\n",
       "  <tbody>\n",
       "    <tr>\n",
       "      <th>0</th>\n",
       "      <td>1.0</td>\n",
       "      <td>4394965.0</td>\n",
       "      <td>0.267947</td>\n",
       "      <td>1.0</td>\n",
       "    </tr>\n",
       "    <tr>\n",
       "      <th>1</th>\n",
       "      <td>2.0</td>\n",
       "      <td>14239973.0</td>\n",
       "      <td>0.362020</td>\n",
       "      <td>1.0</td>\n",
       "    </tr>\n",
       "    <tr>\n",
       "      <th>2</th>\n",
       "      <td>3.0</td>\n",
       "      <td>22551592.0</td>\n",
       "      <td>0.415167</td>\n",
       "      <td>1.0</td>\n",
       "    </tr>\n",
       "    <tr>\n",
       "      <th>3</th>\n",
       "      <td>4.0</td>\n",
       "      <td>31795502.0</td>\n",
       "      <td>0.459532</td>\n",
       "      <td>1.0</td>\n",
       "    </tr>\n",
       "    <tr>\n",
       "      <th>4</th>\n",
       "      <td>5.0</td>\n",
       "      <td>38363470.0</td>\n",
       "      <td>0.504418</td>\n",
       "      <td>1.0</td>\n",
       "    </tr>\n",
       "  </tbody>\n",
       "</table>\n",
       "</div>"
      ],
      "text/plain": [
       "   Lag Distance  Number of Pairs  Variogram Value  Variogram Index\n",
       "0           1.0        4394965.0         0.267947              1.0\n",
       "1           2.0       14239973.0         0.362020              1.0\n",
       "2           3.0       22551592.0         0.415167              1.0\n",
       "3           4.0       31795502.0         0.459532              1.0\n",
       "4           5.0       38363470.0         0.504418              1.0"
      ]
     },
     "execution_count": 569,
     "metadata": {},
     "output_type": "execute_result"
    }
   ],
   "source": [
    "varc_2.head()"
   ]
  },
  {
   "cell_type": "markdown",
   "id": "american-major",
   "metadata": {},
   "source": [
    "### Correlogram function  (Y)"
   ]
  },
  {
   "cell_type": "code",
   "execution_count": 570,
   "id": "finished-laundry",
   "metadata": {},
   "outputs": [],
   "source": [
    "# h1 = Set of points X,Y\n",
    "# h2 = Set of points X,Y\n",
    "# k = 0 used for calculating the distance between the same points\n",
    "# k = 1 used for calculationg distance between different points\n",
    "# k = 2 used for plotting in the major direction\n",
    "# k = 3 used for plotting in the minor direction\n",
    "def C_Y_alternate(h1, h2, k,a_max,a_min,cc = [1],vtype = [1],nstruct = 1):\n",
    "    C = []\n",
    "    #nstruct = 2\n",
    "    #vtype = [1,3]\n",
    "    #a_max = [42, 43]\n",
    "    #a_min = [28.5, 30]\n",
    "    Azimuth = 45\n",
    "    #cc = 0.6,0.4\n",
    "    c = 0.0\n",
    "    for i in range(nstruct):\n",
    "        Q1 = h1.copy()\n",
    "        Q2 = h2.copy()\n",
    "        if k == 0:\n",
    "            d = distance_matrix(\n",
    "                np.matmul(Q1, Rot_Mat(Azimuth, a_max[i], a_min[i])),\n",
    "                np.matmul(Q2, Rot_Mat(Azimuth, a_max[i], a_min[i])),\n",
    "            )\n",
    "        elif k == 1:\n",
    "            d = np.sqrt(\n",
    "                np.square(\n",
    "                    (np.matmul(Q1, Rot_Mat(Azimuth, a_max[i], a_min[i])))\n",
    "                    - np.tile(\n",
    "                        (\n",
    "                            np.matmul(\n",
    "                                Q2, Rot_Mat(Azimuth, a_max[i], a_min[i])\n",
    "                            )\n",
    "                        ),\n",
    "                        (k, 1),\n",
    "                    )\n",
    "                )\n",
    "            ).sum(axis=1)\n",
    "            d = np.asarray(d).reshape(len(d))\n",
    "        elif k == 2:\n",
    "            d = Q1 / a_max[i]\n",
    "        elif k == 3:\n",
    "            d = Q1 / a_min[i]\n",
    "        c = c + covar(vtype[i], d, 1)  * cc[i]\n",
    "\n",
    "    return c"
   ]
  },
  {
   "cell_type": "markdown",
   "id": "provincial-shirt",
   "metadata": {},
   "source": [
    "### Minimize function  (Y)"
   ]
  },
  {
   "cell_type": "code",
   "execution_count": 571,
   "id": "suburban-creator",
   "metadata": {},
   "outputs": [],
   "source": [
    "def optimize_RMSE_dual_model(x, args):\n",
    "    \"\"\"\n",
    "    args : args[0] correspond au DataFrame ; args[1] correspond à la Sill_value (= 1)\n",
    "    gamma= b*second(a_min,a_max)+ c*first(a_min_g,a_max_g)\n",
    "    \"\"\"\n",
    "    \n",
    "    var = args[0][args[0][\"Variogram Value\"] != -999]\n",
    "    var = var.dropna(axis = 0)\n",
    "    Sill_value = args[1]\n",
    "    t = args[2] # chosit le type de model\n",
    "    RMSE = [] # Liste des RMSE\n",
    "    Direction = [\"Major\", \"Minor\"] #Deux directions à additionner\n",
    "    \n",
    "    for i,Dir in enumerate(Direction) :\n",
    "        cov = []              # liste des covario\n",
    "        a_first = x[i]        # range du 1e model\n",
    "        a_second = x[2+i]     # range du 2nd model\n",
    "        b = x[4]              # effet pépite n1\n",
    "        c = 0\n",
    "        if len(t) > 1 :\n",
    "            c = np.absolute(1-b)  # effet pépite n2\n",
    "        \n",
    "        variogram_lag = var[\"Lag Distance\"][var[\"Variogram Index\"] == float(i+1)] # 1.0 Major / 2.0 Minor\n",
    "        variogram_value = Sill_value - var[\"Variogram Value\"][var[\"Variogram Index\"] == float(i+1)] # 1.0 Major / 2.0 Minor\n",
    "        lag_value_first = variogram_lag / a_first # valeurs des lags / range\n",
    "        lag_value_second = variogram_lag / a_second # valeurs des lags / range\n",
    "        \n",
    "        for h_first,h_second in zip(lag_value_first,lag_value_second):\n",
    "            model_value = []\n",
    "            model_h = [h_first,h_second]\n",
    "            model_nugget = [b,c]\n",
    "            \n",
    "            for model_type, nugget, h in zip(t, model_nugget, model_h) :\n",
    "                if model_type == \"Spherical\":  # Spherical\n",
    "                    if h > 1.0 :\n",
    "                        model_value.append(0)\n",
    "                    else :\n",
    "                        model_value.append(nugget * (1 - h * (1.5 - 0.5 * np.square(h))))\n",
    "                elif model_type == \"Exponentiel\" :  # Exponential\n",
    "                    \n",
    "                    model_value.append(nugget * (np.exp(-3 * h)))\n",
    "                    \n",
    "                elif model_type == \"Gaussien\":  # Gaussian\n",
    "                    model_value.append(nugget *(np.exp(-3 * np.square(h))))\n",
    "        \n",
    "            cov.append(model_value)\n",
    "            \n",
    "        RMSE.append(np.sqrt(mean_squared_error(variogram_value,cov)))\n",
    "    return sum(RMSE)"
   ]
  },
  {
   "cell_type": "code",
   "execution_count": 572,
   "id": "raised-tender",
   "metadata": {},
   "outputs": [
    {
     "name": "stdout",
     "output_type": "stream",
     "text": [
      "     fun: 0.08962898222630197\n",
      "     jac: array([ 1.49917426e-08,  4.50249334e-08,  0.00000000e+00,  0.00000000e+00,\n",
      "       -8.54491306e-08])\n",
      " message: 'Converged (|f_n-f_(n-1)| ~= 0)'\n",
      "    nfev: 330\n",
      "     nit: 7\n",
      "  status: 1\n",
      " success: True\n",
      "       x: array([40.43403281, 48.09219015, 20.        , 15.        ,  0.58428663]) \n",
      "\n",
      "a_max_first : 40.0\n",
      "a_min_first : 48.0\n",
      "a_max_second : 20.0\n",
      "a_min_second : 15.0\n",
      "b_y : 0.6\n",
      "c_y : 0.4\n"
     ]
    }
   ],
   "source": [
    "# Allocation des constantes \n",
    "# b0 : effet pepite du model 1\n",
    "#a_max_first0, a_min_first0,a_max_second0, a_min_second0, b0 = 42, 28.5, 43, 30, 1\n",
    "\n",
    "MODEL_type = [\"Spherical\",\"Exponentiel\",\"Gaussien\"] \n",
    "MODEL_value = [MODEL_type[0]]\n",
    "\n",
    "a_max_first0, a_min_first0,a_max_second0, a_min_second0, b0 = 10, 5, 20, 15, 0.5\n",
    "x0   = np.array([a_max_first0, a_min_first0,a_max_second0, a_min_second0, b0])\n",
    "\n",
    "var, Sill_value, Model = varc_2, Sill_vals[1] , MODEL_value\n",
    "args = np.array([var,Sill_value,Model])\n",
    "\n",
    "# Boundaries \n",
    "Bounds = [[1,200], [1,200], [1,200], [1,200], [0,10]] # a_max_first0, a_min_first0,a_max_second0, a_min_second0, b0, c0\n",
    "\n",
    "# Minimize\n",
    "options = {\"xtol\" : 1e-5,\n",
    "           \"gtol\" : 1e-5}\n",
    "\n",
    "dual_model = minimize(optimize_RMSE_dual_model, x0, args = args,\n",
    "                            method='TNC', jac = '3-point',\n",
    "                            bounds = Bounds,\n",
    "                      tol = 1e-9, options = options)\n",
    "\n",
    "a_max_first, a_min_first, a_max_second, a_min_second, b_y= dual_model.x\n",
    "c_y = 1-b_y\n",
    "print(dual_model,'\\n')\n",
    "#Réduit la précision des variables \n",
    "name_var = [\"a_max_first\", \"a_min_first\", \"a_max_second\", \"a_min_second\",\"b_y\",\"c_y\"]\n",
    "number_var = [a_max_first, a_min_first, a_max_second, a_min_second, b_y,c_y]\n",
    "\n",
    "for name,number in zip(name_var,number_var) :\n",
    "    if name == \"b_y\" or name == \"c_y\" :\n",
    "        locals()[f\"{name}\"] = float(\"{:.1f}\".format(number))\n",
    "    else :\n",
    "        locals()[f\"{name}\"] = float(\"{:.0f}\".format(number))\n",
    "    print(name,\":\",locals()[f\"{name}\"])"
   ]
  },
  {
   "cell_type": "markdown",
   "id": "emerging-lexington",
   "metadata": {},
   "source": [
    "### Plot fitted Correlogram (Y)"
   ]
  },
  {
   "cell_type": "code",
   "execution_count": 573,
   "id": "loving-scroll",
   "metadata": {},
   "outputs": [
    {
     "name": "stdout",
     "output_type": "stream",
     "text": [
      "a_max : 40.0\n",
      "a_min : 40.0\n"
     ]
    }
   ],
   "source": [
    "MODEL ={\"Spherical\" : 1,\n",
    "        \"Exponentiel\" : 2,\n",
    "        \"Gaussien\" : 3}\n",
    "\n",
    "Direction = [\"Major\", \"Minor\"]\n",
    "\n",
    "a_max_y = [a_max_first, a_max_second]\n",
    "print(\"a_max :\", a_max)\n",
    "a_min_y = [a_min_first, a_min_second]\n",
    "print(\"a_min :\", a_min)\n",
    "cc_y = [b_y, c_y]"
   ]
  },
  {
   "cell_type": "code",
   "execution_count": 574,
   "id": "final-initial",
   "metadata": {},
   "outputs": [
    {
     "name": "stdout",
     "output_type": "stream",
     "text": [
      "[1]\n"
     ]
    }
   ],
   "source": [
    "vtype_y = []\n",
    "for model_value in Model :\n",
    "    vtype_y.append(MODEL[model_value]) # type de modèle \n",
    "print(vtype_y)"
   ]
  },
  {
   "cell_type": "code",
   "execution_count": 575,
   "id": "collectible-polls",
   "metadata": {
    "scrolled": false
   },
   "outputs": [
    {
     "data": {
      "image/png": "[encoded data removed]",
      "text/plain": [
       "<Figure size 720x864 with 2 Axes>"
      ]
     },
     "metadata": {
      "needs_background": "light"
     },
     "output_type": "display_data"
    }
   ],
   "source": [
    "k = 0\n",
    "varg_type = 2  # See Correlogram Functions\n",
    "fig, axes = plt.subplots(2, 1, figsize=(10, 12))\n",
    "\n",
    "for Dir in Direction:\n",
    "    \n",
    "    for h in range(0, LENGTH + 1):\n",
    "        cy[h]= C_Y_alternate(np.matrix(h), np.matrix(h), varg_type,\n",
    "                                       a_max_y,a_min_y,\n",
    "                                       cc_y, vtype_y, nstruct = 1)\n",
    "        H[h] = h\n",
    "    MM_vargs = [ cz_True,cy,czy ]\n",
    "\n",
    "    for i in np.arange(1,2): \n",
    "        if Dir == \"Major\" : \n",
    "            LABEL =  \"range = {}\".format(a_max_y[0])\n",
    "        else :\n",
    "            LABEL =  \"range = {}\".format(a_min_y[0])\n",
    "        axes[k].plot(H, MM_vargs[i], label=LABEL)\n",
    "        \n",
    "        if (i + 1) < 3:\n",
    "            var = locals()[\"varc_{}\".format(i + 1)]\n",
    "            axes[k].plot(\n",
    "                var[\"Lag Distance\"][\n",
    "                    var[\"Variogram Index\"] == (varg_type - 1)\n",
    "                ],\n",
    "                Sill_vals[i]\n",
    "                - var[\"Variogram Value\"][\n",
    "                    var[\"Variogram Index\"] == (varg_type - 1)\n",
    "                ],\n",
    "                \"o\",\n",
    "                color=\"blue\"\n",
    "                )\n",
    "    \n",
    "    TITLE = \"Model :\"\n",
    "    for i in range(1) :\n",
    "        TITLE += f\"{cc_y[i]} {MODEL_type[vtype_y[i]-1]} \"\n",
    "        \n",
    "    axes[k].plot(H, ones, color=\"Black\")\n",
    "    axes[k].grid()\n",
    "    axes[k].set_xlim(0, LENGTH + 1)\n",
    "    #axes[k].set_ylim(-0.1, 1)\n",
    "    axes[k].set_ylabel(\"\\u03C1(h)\", size=25)\n",
    "    axes[k].set_xlabel(\"h\", size=15)\n",
    "    axes[k].set_title(TITLE,size=20)\n",
    "    axes[k].legend(loc=\"best\", prop={\"size\": 15})\n",
    "    varg_type = varg_type + 1\n",
    "    k +=1\n",
    "    \n",
    "Save = False \n",
    "if Save :\n",
    "    fileout =  \"C:/Users/Alexandre/Desktop/Cours/Stage/\\collocatedcokriging/Correlogram_test/\"+Model+\".png\"\n",
    "    plt.tight_layout()\n",
    "    plt.savefig('fileout', bbox_inches=\"tight\", dpi=300)\n",
    "    "
   ]
  },
  {
   "cell_type": "markdown",
   "id": "inclusive-excellence",
   "metadata": {},
   "source": [
    "# Cross Model "
   ]
  },
  {
   "cell_type": "markdown",
   "id": "adopted-hardwood",
   "metadata": {},
   "source": [
    "### Correlogram function  (Cross)"
   ]
  },
  {
   "cell_type": "code",
   "execution_count": 576,
   "id": "rapid-meditation",
   "metadata": {},
   "outputs": [],
   "source": [
    "def C_ZY(h1, h2, k, a_max, a_min, corr,vtype,nstruct ):\n",
    "    C = []\n",
    "    #nstruct = 1\n",
    "    #vtype = [1]\n",
    "    #a_max = [45]\n",
    "    #a_min = [30]\n",
    "    Azimuth = 45\n",
    "    cc = [corr]\n",
    "    c = 0\n",
    "    for i in range(nstruct):\n",
    "        \n",
    "        Q1 = h1.copy()\n",
    "        Q2 = h2.copy()\n",
    "        if k == 0:\n",
    "            d = distance_matrix(\n",
    "                np.matmul(Q1, Rot_Mat(Azimuth, a_max[i], a_min[i])),\n",
    "                np.matmul(Q2, Rot_Mat(Azimuth, a_max[i], a_min[i])),\n",
    "            )\n",
    "        elif k == 1:\n",
    "            d = np.sqrt(\n",
    "                np.square(\n",
    "                    (np.matmul(Q1, Rot_Mat(Azimuth, a_max[i], a_min[i])))\n",
    "                    - np.tile(\n",
    "                        (\n",
    "                            np.matmul(\n",
    "                                Q2, Rot_Mat(Azimuth, a_max[i], a_min[i])\n",
    "                            )\n",
    "                        ),\n",
    "                        (k, 1),\n",
    "                    )\n",
    "                ).sum(axis=1)\n",
    "            )\n",
    "            d = np.asarray(d).reshape(len(d))\n",
    "        elif k == 2:\n",
    "            d = Q1 / a_max[i]\n",
    "        elif k == 3:\n",
    "            d = Q1 / a_min[i]\n",
    "        c = c + covar(vtype[i], d, 1) * cc[i]\n",
    "    return c"
   ]
  },
  {
   "cell_type": "markdown",
   "id": "personalized-floor",
   "metadata": {},
   "source": [
    "### Minimize function  (Cross)"
   ]
  },
  {
   "cell_type": "code",
   "execution_count": 577,
   "id": "fiscal-average",
   "metadata": {},
   "outputs": [],
   "source": [
    "def optimize_RMSE_cross(x, args):\n",
    "    \"\"\"\n",
    "    args : args[0] correspond au DataFrame ; args[1] correspond à la Sill_value (= 1)\n",
    "    gamma= b*spherical(a_min,a_max)\n",
    "    \"\"\"\n",
    "    \n",
    "    var = args[0][args[0][\"Variogram Value\"] != -999] # drop les valeurs -999 \n",
    "    Sill_value = args[1]\n",
    "    t = args[2] # chosit le type de model\n",
    "    RMSE = [] # Liste des RMSE\n",
    "    Direction = [\"Major\",\"Minor\"] #deux directions à additionner\n",
    "    \n",
    "    for i,Dir in enumerate(Direction) :\n",
    "        c = [] # liste des covario\n",
    "        a_range = x[0] # range\n",
    "        b = Sill_value      # effet pépite\n",
    "        #print(a_range , b)\n",
    "        \n",
    "        variogram_lag = var[\"Lag Distance\"][var[\"Variogram Index\"] == float(i+1)] # 1.0 Major / 2.0 Minor\n",
    "        variogram_value = Sill_value - var[\"Variogram Value\"][var[\"Variogram Index\"] == float(i+1)] # 1.0 Major / 2.0 Minor\n",
    "        lag_value = variogram_lag / a_range # valeurs des lags / range\n",
    "        \n",
    "        \n",
    "        for h in lag_value:\n",
    "            \n",
    "            if t == \"Spherical\":  # Spherical\n",
    "                if h > 1.0 :\n",
    "                    MODEL = 0\n",
    "                else :\n",
    "                    MODEL = b* (1 - h * (1.5 - 0.5 * np.square(h)))\n",
    "                \n",
    "            elif t == \"Exponentiel\" :  # Exponential\n",
    "                MODEL = b* (np.exp(-3 * h))\n",
    "            elif t == \"Gaussien\":  # Gaussian\n",
    "                MODEL = b*(np.exp(-3 * np.square(h)))\n",
    "                \n",
    "            c.append(MODEL)\n",
    "            \n",
    "        RMSE.append(np.sqrt(mean_squared_error(variogram_value,c)))\n",
    "        #print(\"sum(RMSE) :\", sum(RMSE), \"\\n\")\n",
    "    return sum(RMSE)"
   ]
  },
  {
   "cell_type": "code",
   "execution_count": 578,
   "id": "spoken-exhibition",
   "metadata": {},
   "outputs": [
    {
     "name": "stdout",
     "output_type": "stream",
     "text": [
      "Coeff de correlation : 0.87\n"
     ]
    },
    {
     "ename": "UnboundLocalError",
     "evalue": "local variable 'MODEL' referenced before assignment",
     "output_type": "error",
     "traceback": [
      "\u001b[1;31m---------------------------------------------------------------------------\u001b[0m",
      "\u001b[1;31mUnboundLocalError\u001b[0m                         Traceback (most recent call last)",
      "\u001b[1;32m<ipython-input-578-30267b792407>\u001b[0m in \u001b[0;36m<module>\u001b[1;34m\u001b[0m\n\u001b[0;32m     20\u001b[0m \u001b[0mBounds\u001b[0m \u001b[1;33m=\u001b[0m \u001b[1;33m[\u001b[0m\u001b[1;33m[\u001b[0m\u001b[1;36m1\u001b[0m\u001b[1;33m,\u001b[0m\u001b[1;36m50\u001b[0m\u001b[1;33m]\u001b[0m\u001b[1;33m]\u001b[0m\u001b[1;33m\u001b[0m\u001b[1;33m\u001b[0m\u001b[0m\n\u001b[0;32m     21\u001b[0m \u001b[1;31m# Minimize\u001b[0m\u001b[1;33m\u001b[0m\u001b[1;33m\u001b[0m\u001b[1;33m\u001b[0m\u001b[0m\n\u001b[1;32m---> 22\u001b[1;33m single_model = minimize(optimize_RMSE_cross,x0,args = args,\n\u001b[0m\u001b[0;32m     23\u001b[0m                             \u001b[0mmethod\u001b[0m\u001b[1;33m=\u001b[0m\u001b[1;34m'TNC'\u001b[0m\u001b[1;33m,\u001b[0m \u001b[0mjac\u001b[0m \u001b[1;33m=\u001b[0m \u001b[1;34m'3-point'\u001b[0m\u001b[1;33m,\u001b[0m\u001b[1;33m\u001b[0m\u001b[1;33m\u001b[0m\u001b[0m\n\u001b[0;32m     24\u001b[0m                             bounds = Bounds,tol = 1e-9)\n",
      "\u001b[1;32m~\\anaconda3\\lib\\site-packages\\scipy\\optimize\\_minimize.py\u001b[0m in \u001b[0;36mminimize\u001b[1;34m(fun, x0, args, method, jac, hess, hessp, bounds, constraints, tol, callback, options)\u001b[0m\n\u001b[0;32m    620\u001b[0m                                 callback=callback, **options)\n\u001b[0;32m    621\u001b[0m     \u001b[1;32melif\u001b[0m \u001b[0mmeth\u001b[0m \u001b[1;33m==\u001b[0m \u001b[1;34m'tnc'\u001b[0m\u001b[1;33m:\u001b[0m\u001b[1;33m\u001b[0m\u001b[1;33m\u001b[0m\u001b[0m\n\u001b[1;32m--> 622\u001b[1;33m         return _minimize_tnc(fun, x0, args, jac, bounds, callback=callback,\n\u001b[0m\u001b[0;32m    623\u001b[0m                              **options)\n\u001b[0;32m    624\u001b[0m     \u001b[1;32melif\u001b[0m \u001b[0mmeth\u001b[0m \u001b[1;33m==\u001b[0m \u001b[1;34m'cobyla'\u001b[0m\u001b[1;33m:\u001b[0m\u001b[1;33m\u001b[0m\u001b[1;33m\u001b[0m\u001b[0m\n",
      "\u001b[1;32m~\\anaconda3\\lib\\site-packages\\scipy\\optimize\\tnc.py\u001b[0m in \u001b[0;36m_minimize_tnc\u001b[1;34m(fun, x0, args, jac, bounds, eps, scale, offset, mesg_num, maxCGit, maxiter, eta, stepmx, accuracy, minfev, ftol, xtol, gtol, rescale, disp, callback, finite_diff_rel_step, maxfun, **unknown_options)\u001b[0m\n\u001b[0;32m    373\u001b[0m         \u001b[0mmessages\u001b[0m \u001b[1;33m=\u001b[0m \u001b[0mMSG_NONE\u001b[0m\u001b[1;33m\u001b[0m\u001b[1;33m\u001b[0m\u001b[0m\n\u001b[0;32m    374\u001b[0m \u001b[1;33m\u001b[0m\u001b[0m\n\u001b[1;32m--> 375\u001b[1;33m     sf = _prepare_scalar_function(fun, x0, jac=jac, args=args, epsilon=eps,\n\u001b[0m\u001b[0;32m    376\u001b[0m                                   \u001b[0mfinite_diff_rel_step\u001b[0m\u001b[1;33m=\u001b[0m\u001b[0mfinite_diff_rel_step\u001b[0m\u001b[1;33m,\u001b[0m\u001b[1;33m\u001b[0m\u001b[1;33m\u001b[0m\u001b[0m\n\u001b[0;32m    377\u001b[0m                                   bounds=new_bounds)\n",
      "\u001b[1;32m~\\anaconda3\\lib\\site-packages\\scipy\\optimize\\optimize.py\u001b[0m in \u001b[0;36m_prepare_scalar_function\u001b[1;34m(fun, x0, jac, args, bounds, epsilon, finite_diff_rel_step, hess)\u001b[0m\n\u001b[0;32m    259\u001b[0m     \u001b[1;31m# ScalarFunction caches. Reuse of fun(x) during grad\u001b[0m\u001b[1;33m\u001b[0m\u001b[1;33m\u001b[0m\u001b[1;33m\u001b[0m\u001b[0m\n\u001b[0;32m    260\u001b[0m     \u001b[1;31m# calculation reduces overall function evaluations.\u001b[0m\u001b[1;33m\u001b[0m\u001b[1;33m\u001b[0m\u001b[1;33m\u001b[0m\u001b[0m\n\u001b[1;32m--> 261\u001b[1;33m     sf = ScalarFunction(fun, x0, args, grad, hess,\n\u001b[0m\u001b[0;32m    262\u001b[0m                         finite_diff_rel_step, bounds, epsilon=epsilon)\n\u001b[0;32m    263\u001b[0m \u001b[1;33m\u001b[0m\u001b[0m\n",
      "\u001b[1;32m~\\anaconda3\\lib\\site-packages\\scipy\\optimize\\_differentiable_functions.py\u001b[0m in \u001b[0;36m__init__\u001b[1;34m(self, fun, x0, args, grad, hess, finite_diff_rel_step, finite_diff_bounds, epsilon)\u001b[0m\n\u001b[0;32m    134\u001b[0m \u001b[1;33m\u001b[0m\u001b[0m\n\u001b[0;32m    135\u001b[0m         \u001b[0mself\u001b[0m\u001b[1;33m.\u001b[0m\u001b[0m_update_fun_impl\u001b[0m \u001b[1;33m=\u001b[0m \u001b[0mupdate_fun\u001b[0m\u001b[1;33m\u001b[0m\u001b[1;33m\u001b[0m\u001b[0m\n\u001b[1;32m--> 136\u001b[1;33m         \u001b[0mself\u001b[0m\u001b[1;33m.\u001b[0m\u001b[0m_update_fun\u001b[0m\u001b[1;33m(\u001b[0m\u001b[1;33m)\u001b[0m\u001b[1;33m\u001b[0m\u001b[1;33m\u001b[0m\u001b[0m\n\u001b[0m\u001b[0;32m    137\u001b[0m \u001b[1;33m\u001b[0m\u001b[0m\n\u001b[0;32m    138\u001b[0m         \u001b[1;31m# Gradient evaluation\u001b[0m\u001b[1;33m\u001b[0m\u001b[1;33m\u001b[0m\u001b[1;33m\u001b[0m\u001b[0m\n",
      "\u001b[1;32m~\\anaconda3\\lib\\site-packages\\scipy\\optimize\\_differentiable_functions.py\u001b[0m in \u001b[0;36m_update_fun\u001b[1;34m(self)\u001b[0m\n\u001b[0;32m    224\u001b[0m     \u001b[1;32mdef\u001b[0m \u001b[0m_update_fun\u001b[0m\u001b[1;33m(\u001b[0m\u001b[0mself\u001b[0m\u001b[1;33m)\u001b[0m\u001b[1;33m:\u001b[0m\u001b[1;33m\u001b[0m\u001b[1;33m\u001b[0m\u001b[0m\n\u001b[0;32m    225\u001b[0m         \u001b[1;32mif\u001b[0m \u001b[1;32mnot\u001b[0m \u001b[0mself\u001b[0m\u001b[1;33m.\u001b[0m\u001b[0mf_updated\u001b[0m\u001b[1;33m:\u001b[0m\u001b[1;33m\u001b[0m\u001b[1;33m\u001b[0m\u001b[0m\n\u001b[1;32m--> 226\u001b[1;33m             \u001b[0mself\u001b[0m\u001b[1;33m.\u001b[0m\u001b[0m_update_fun_impl\u001b[0m\u001b[1;33m(\u001b[0m\u001b[1;33m)\u001b[0m\u001b[1;33m\u001b[0m\u001b[1;33m\u001b[0m\u001b[0m\n\u001b[0m\u001b[0;32m    227\u001b[0m             \u001b[0mself\u001b[0m\u001b[1;33m.\u001b[0m\u001b[0mf_updated\u001b[0m \u001b[1;33m=\u001b[0m \u001b[1;32mTrue\u001b[0m\u001b[1;33m\u001b[0m\u001b[1;33m\u001b[0m\u001b[0m\n\u001b[0;32m    228\u001b[0m \u001b[1;33m\u001b[0m\u001b[0m\n",
      "\u001b[1;32m~\\anaconda3\\lib\\site-packages\\scipy\\optimize\\_differentiable_functions.py\u001b[0m in \u001b[0;36mupdate_fun\u001b[1;34m()\u001b[0m\n\u001b[0;32m    131\u001b[0m \u001b[1;33m\u001b[0m\u001b[0m\n\u001b[0;32m    132\u001b[0m         \u001b[1;32mdef\u001b[0m \u001b[0mupdate_fun\u001b[0m\u001b[1;33m(\u001b[0m\u001b[1;33m)\u001b[0m\u001b[1;33m:\u001b[0m\u001b[1;33m\u001b[0m\u001b[1;33m\u001b[0m\u001b[0m\n\u001b[1;32m--> 133\u001b[1;33m             \u001b[0mself\u001b[0m\u001b[1;33m.\u001b[0m\u001b[0mf\u001b[0m \u001b[1;33m=\u001b[0m \u001b[0mfun_wrapped\u001b[0m\u001b[1;33m(\u001b[0m\u001b[0mself\u001b[0m\u001b[1;33m.\u001b[0m\u001b[0mx\u001b[0m\u001b[1;33m)\u001b[0m\u001b[1;33m\u001b[0m\u001b[1;33m\u001b[0m\u001b[0m\n\u001b[0m\u001b[0;32m    134\u001b[0m \u001b[1;33m\u001b[0m\u001b[0m\n\u001b[0;32m    135\u001b[0m         \u001b[0mself\u001b[0m\u001b[1;33m.\u001b[0m\u001b[0m_update_fun_impl\u001b[0m \u001b[1;33m=\u001b[0m \u001b[0mupdate_fun\u001b[0m\u001b[1;33m\u001b[0m\u001b[1;33m\u001b[0m\u001b[0m\n",
      "\u001b[1;32m~\\anaconda3\\lib\\site-packages\\scipy\\optimize\\_differentiable_functions.py\u001b[0m in \u001b[0;36mfun_wrapped\u001b[1;34m(x)\u001b[0m\n\u001b[0;32m    128\u001b[0m         \u001b[1;32mdef\u001b[0m \u001b[0mfun_wrapped\u001b[0m\u001b[1;33m(\u001b[0m\u001b[0mx\u001b[0m\u001b[1;33m)\u001b[0m\u001b[1;33m:\u001b[0m\u001b[1;33m\u001b[0m\u001b[1;33m\u001b[0m\u001b[0m\n\u001b[0;32m    129\u001b[0m             \u001b[0mself\u001b[0m\u001b[1;33m.\u001b[0m\u001b[0mnfev\u001b[0m \u001b[1;33m+=\u001b[0m \u001b[1;36m1\u001b[0m\u001b[1;33m\u001b[0m\u001b[1;33m\u001b[0m\u001b[0m\n\u001b[1;32m--> 130\u001b[1;33m             \u001b[1;32mreturn\u001b[0m \u001b[0mfun\u001b[0m\u001b[1;33m(\u001b[0m\u001b[0mx\u001b[0m\u001b[1;33m,\u001b[0m \u001b[1;33m*\u001b[0m\u001b[0margs\u001b[0m\u001b[1;33m)\u001b[0m\u001b[1;33m\u001b[0m\u001b[1;33m\u001b[0m\u001b[0m\n\u001b[0m\u001b[0;32m    131\u001b[0m \u001b[1;33m\u001b[0m\u001b[0m\n\u001b[0;32m    132\u001b[0m         \u001b[1;32mdef\u001b[0m \u001b[0mupdate_fun\u001b[0m\u001b[1;33m(\u001b[0m\u001b[1;33m)\u001b[0m\u001b[1;33m:\u001b[0m\u001b[1;33m\u001b[0m\u001b[1;33m\u001b[0m\u001b[0m\n",
      "\u001b[1;32m<ipython-input-577-1bb304b072e3>\u001b[0m in \u001b[0;36moptimize_RMSE_cross\u001b[1;34m(x, args)\u001b[0m\n\u001b[0;32m     35\u001b[0m                 \u001b[0mMODEL\u001b[0m \u001b[1;33m=\u001b[0m \u001b[0mb\u001b[0m\u001b[1;33m*\u001b[0m\u001b[1;33m(\u001b[0m\u001b[0mnp\u001b[0m\u001b[1;33m.\u001b[0m\u001b[0mexp\u001b[0m\u001b[1;33m(\u001b[0m\u001b[1;33m-\u001b[0m\u001b[1;36m3\u001b[0m \u001b[1;33m*\u001b[0m \u001b[0mnp\u001b[0m\u001b[1;33m.\u001b[0m\u001b[0msquare\u001b[0m\u001b[1;33m(\u001b[0m\u001b[0mh\u001b[0m\u001b[1;33m)\u001b[0m\u001b[1;33m)\u001b[0m\u001b[1;33m)\u001b[0m\u001b[1;33m\u001b[0m\u001b[1;33m\u001b[0m\u001b[0m\n\u001b[0;32m     36\u001b[0m \u001b[1;33m\u001b[0m\u001b[0m\n\u001b[1;32m---> 37\u001b[1;33m             \u001b[0mc\u001b[0m\u001b[1;33m.\u001b[0m\u001b[0mappend\u001b[0m\u001b[1;33m(\u001b[0m\u001b[0mMODEL\u001b[0m\u001b[1;33m)\u001b[0m\u001b[1;33m\u001b[0m\u001b[1;33m\u001b[0m\u001b[0m\n\u001b[0m\u001b[0;32m     38\u001b[0m \u001b[1;33m\u001b[0m\u001b[0m\n\u001b[0;32m     39\u001b[0m         \u001b[0mRMSE\u001b[0m\u001b[1;33m.\u001b[0m\u001b[0mappend\u001b[0m\u001b[1;33m(\u001b[0m\u001b[0mnp\u001b[0m\u001b[1;33m.\u001b[0m\u001b[0msqrt\u001b[0m\u001b[1;33m(\u001b[0m\u001b[0mmean_squared_error\u001b[0m\u001b[1;33m(\u001b[0m\u001b[0mvariogram_value\u001b[0m\u001b[1;33m,\u001b[0m\u001b[0mc\u001b[0m\u001b[1;33m)\u001b[0m\u001b[1;33m)\u001b[0m\u001b[1;33m)\u001b[0m\u001b[1;33m\u001b[0m\u001b[1;33m\u001b[0m\u001b[0m\n",
      "\u001b[1;31mUnboundLocalError\u001b[0m: local variable 'MODEL' referenced before assignment"
     ]
    }
   ],
   "source": [
    "Primary = Cross_variogram[\"DataFrame\"]\n",
    "corr = np.corrcoef(Primary[\"Primary\"], Primary[\"Secondary\"])[0,1]\n",
    "corr = float(\"{:.2f}\".format(corr))\n",
    "print(\"Coeff de correlation :\", corr)\n",
    "\n",
    "MODEL_type ={\"Spherical\" : 1,\n",
    "        \"Exponential\" : 2,\n",
    "        \"Gaussien\" : 3}\n",
    "\n",
    "\n",
    "# Allocation des constantes \n",
    "a_max0 = 10\n",
    "x0 = np.array(a_max0)\n",
    "Model_name = MODEL_type[\"Exponential\"]\n",
    "\n",
    "var, Sill_value  = varc_3, corr\n",
    "args = np.array([var,Sill_value,Model_name])\n",
    "\n",
    "# Boundaries \n",
    "Bounds = [[1,50]]\n",
    "# Minimize\n",
    "single_model = minimize(optimize_RMSE_cross,x0,args = args,\n",
    "                            method='TNC', jac = '3-point',\n",
    "                            bounds = Bounds,tol = 1e-9)\n",
    "\n",
    "a_max_zy = single_model.x\n",
    "a_min_zy = a_max_zy\n",
    "print(single_model,'\\n')\n",
    "b_zy = Sill_value\n",
    "#Réduit la précision des variables \n",
    "name_var = [\"a_max_c\", \"b_c\"]\n",
    "number_var = [a_max_zy[0],a_min_zy[0], b_zy]\n",
    "\n",
    "for name,number in zip(name_var,number_var) :\n",
    "    if name == \"b_zy\" :\n",
    "        locals()[f\"{name}\"] = float(\"{:.2f}\".format(number))\n",
    "    else :\n",
    "        locals()[f\"{name}\"] = float(\"{:.0f}\".format(number))\n",
    "    print(name,\":\",locals()[f\"{name}\"])"
   ]
  },
  {
   "cell_type": "markdown",
   "id": "appointed-frontier",
   "metadata": {},
   "source": [
    "### Plot fitted Cross Correlogram"
   ]
  },
  {
   "cell_type": "code",
   "execution_count": null,
   "id": "subtle-correlation",
   "metadata": {},
   "outputs": [],
   "source": [
    "MODEL ={\"Spherical\" : 1,\n",
    "        \"Exponential\" : 2,\n",
    "        \"Gaussien\" : 3}\n",
    "MODEL_TYPE = {1 : \"Spherical\" ,\n",
    "        2 : \"Exponential\" ,\n",
    "        3 : \"Gaussien\" }\n",
    "Direction = [\"Major\", \"Minor\"]"
   ]
  },
  {
   "cell_type": "code",
   "execution_count": null,
   "id": "banner-evans",
   "metadata": {
    "scrolled": false
   },
   "outputs": [],
   "source": [
    "## Constantes de démarrage\n",
    "varg_type_cc = 2  # See Correlogram Functions\n",
    "a_max = [a_max_zy]\n",
    "a_min = [a_max_zy]\n",
    "cc_zy = corr\n",
    "vtype_zy = [3]# type de modèle \n",
    "k = 0\n",
    "fig, axes = plt.subplots(2, 1, figsize=(10, 12))\n",
    "\n",
    "for Dir in Direction:\n",
    "    \n",
    "    for h in range(0, LENGTH + 1):\n",
    "        czy[h]= C_ZY(np.matrix(h), np.matrix(h), 2,\n",
    "                                       a_max,a_min,\n",
    "                                       cc_zy, vtype_zy,  1)\n",
    "        H[h] = h\n",
    "    MM_vargs = [ cz_True,cy,czy ]\n",
    "\n",
    "    for i in np.arange(2,3): \n",
    "        if Dir == \"Major\" : \n",
    "            LABEL =  \"range = {}\".format(a_max[0])\n",
    "        else :\n",
    "            LABEL =  \"range = {}\".format(a_min[0])\n",
    "        axes[k].plot(H, MM_vargs[i], label=LABEL)\n",
    "        \n",
    "        if (i + 1) <= 3:\n",
    "            var = locals()[\"varc_{}\".format(i + 1)]\n",
    "            axes[k].plot(\n",
    "                var[\"Lag Distance\"][\n",
    "                    var[\"Variogram Index\"] == (varg_type_cc - 1)\n",
    "                ],\n",
    "                Sill_vals[i]\n",
    "                - var[\"Variogram Value\"][\n",
    "                    var[\"Variogram Index\"] == (varg_type_cc - 1)\n",
    "                ],\n",
    "                \"o\"\n",
    "                )\n",
    "    \n",
    "    TITLE = \"Model :\"\n",
    "    for i in range(len([cc_zy])) :\n",
    "        TITLE += f\"{cc_zy} {Model_name} \"\n",
    "        \n",
    "    axes[k].plot(H, ones, color=\"Black\")\n",
    "    axes[k].grid()\n",
    "    axes[k].set_xlim(0, LENGTH + 1)\n",
    "    #axes[k].set_ylim(-0.1, 1)\n",
    "    axes[k].set_ylabel(\"\\u03C1(h)\", size=20)\n",
    "    axes[k].set_xlabel(\"h\", size=20)\n",
    "    axes[k].set_title(TITLE,size=20)\n",
    "    axes[k].legend(loc=\"best\", prop={\"size\": 15})\n",
    "    varg_type_cc = varg_type_cc + 1\n",
    "    k +=1\n",
    "    \n",
    "Save = False \n",
    "if Save :\n",
    "    fileout =  \"C:/Users/Alexandre/Desktop/Cours/Stage/\\collocatedcokriging/Correlogram_test/\"+Model+\".png\"\n",
    "    plt.tight_layout()\n",
    "    plt.savefig('fileout', bbox_inches=\"tight\", dpi=300)\n",
    "    "
   ]
  },
  {
   "cell_type": "code",
   "execution_count": null,
   "id": "historical-neutral",
   "metadata": {
    "scrolled": false
   },
   "outputs": [],
   "source": [
    "ones = np.zeros(shape=(101))\n",
    "Cross_ones = np.zeros(shape=(101))\n",
    "H = np.zeros(shape=(101))\n",
    "Corr_labels = [\n",
    "    \"Primary Correlogram\",\n",
    "    \"Secondary Correlogram\",\n",
    "    \"Cross Correlogram\",\n",
    "]\n",
    "Directions = [\"Major\", \"Minor\"]\n",
    "Model_name = [MODEL_TYPE[vtype_z[0]],MODEL_TYPE[vtype_y[0]],MODEL_TYPE[vtype_zy[0]]]\n",
    "b_effect   = [cc_z[0],cc_y[0],cc_zy]\n",
    "\n",
    "colors = [\"Grey\", \"Blue\", \"Orange\"]\n",
    "labels_2 = [\"$\\u03C1_{z}$\", \"$\\u03C1_{y}$\", \"$\\u03C1_{zy}$\"]\n",
    "Sill_vals = [1, 1, corr]\n",
    "for h in range(1, 101):\n",
    "    H[h] = h\n",
    "fig, axes = plt.subplots(2, 3, figsize=(15, 10))\n",
    "MM_vargs = [ cz_True,cy,czy]\n",
    "for i in range(0, 3):\n",
    "    var = locals()[\"varc_{}\".format(i + 1)]\n",
    "    for j in range(0, 2):\n",
    "        axes[j, i].plot(\n",
    "            var[\"Lag Distance\"][var[\"Variogram Index\"] == (j + 1)],\n",
    "            Sill_vals[i]\n",
    "            - var[\"Variogram Value\"][var[\"Variogram Index\"] == (j + 1)],\n",
    "            \"o\",\n",
    "            color=colors[i],\n",
    "        )\n",
    "        \n",
    "        \n",
    "        \n",
    "        \n",
    "        axes[j,i].plot(H, MM_vargs[i])\n",
    "        axes[j, i].set_ylabel(labels_2[i], size=35)\n",
    "        axes[j, i].plot(H, ones, color=\"Black\")\n",
    "        axes[j, i].set_xlabel(\"h\", size=35)\n",
    "        axes[j, i].set_title(Corr_labels[i] + \" \" + Directions[j] +\"\\n\"+str(b_effect[i])+\" \"+Model_name[i], size=15)\n",
    "        \n",
    "plt.setp(axes, xlim=(0, 100))\n",
    "plt.tight_layout()\n",
    "#plt.savefig('true_variograms.png', bbox_inches=\"tight\", dpi=300)"
   ]
  },
  {
   "cell_type": "markdown",
   "id": "lovely-semester",
   "metadata": {},
   "source": [
    "## Set up MMII Correlogram"
   ]
  },
  {
   "cell_type": "markdown",
   "id": "solar-balloon",
   "metadata": {},
   "source": [
    "In MMII the secondary correlogram ρy(h) and the correlation are used to calculate the secondary covariance and the cross covariance. In MMII the primary covariance is fit using ρr(h) and the secondary correlogram ρy(h). The primary correlogram for the MMII is denoted as ρzMMII(h) in the images below. ρzMMII(h) should be similar to ρz(h)"
   ]
  },
  {
   "cell_type": "markdown",
   "id": "transparent-alexandria",
   "metadata": {},
   "source": [
    "#### Le modèle ρzMMII doit similaire à ρz(h) : On passe obligatoirement par une fonction de minimisation "
   ]
  },
  {
   "cell_type": "markdown",
   "id": "turkish-palestinian",
   "metadata": {},
   "source": [
    "### Scalling Correlogram"
   ]
  },
  {
   "cell_type": "code",
   "execution_count": null,
   "id": "wrong-sailing",
   "metadata": {},
   "outputs": [],
   "source": [
    "# h1 = Set of points X,Y\n",
    "# h2 = Set of points X,Y\n",
    "# k = 0 used for calculating the distance between the same points\n",
    "# k = 1 used for calculationg distance between different points\n",
    "# k = 2 used for plotting in the major direction\n",
    "# k = 3 used for plotting in the minor direction\n",
    "def C_r (h1, h2, k, a_max, a_min, cc,vtype,nstruct ):\n",
    "    C = []\n",
    "    #nstruct = 1\n",
    "    #vtype = [3]\n",
    "    #a_max = [18]\n",
    "    #a_min = [13]\n",
    "    Azimuth = 45\n",
    "    #cc = [1]\n",
    "    c = 0\n",
    "    for i in range(nstruct):\n",
    "        Q1 = h1.copy()\n",
    "        Q2 = h2.copy()\n",
    "        if k == 0:\n",
    "            d = distance_matrix(\n",
    "                np.matmul(Q1, Rot_Mat(Azimuth, a_max[i], a_min[i])),\n",
    "                np.matmul(Q2, Rot_Mat(Azimuth, a_max[i], a_min[i])),\n",
    "            )\n",
    "        elif k == 1:\n",
    "            d = np.sqrt(\n",
    "                np.square(\n",
    "                    (np.matmul(Q1, Rot_Mat(Azimuth, a_max[i], a_min[i])))\n",
    "                    - np.tile(\n",
    "                        (\n",
    "                            np.matmul(\n",
    "                                Q2, Rot_Mat(Azimuth, a_max[i], a_min[i])\n",
    "                            )\n",
    "                        ),\n",
    "                        (k, 1),\n",
    "                    )\n",
    "                ).sum(axis=1)\n",
    "            )\n",
    "            d = np.asarray(d).reshape(len(d))\n",
    "        elif k == 2:\n",
    "            d = Q1 / a_max[i]\n",
    "        elif k == 3:\n",
    "            d = Q1 / a_min[i]\n",
    "        c = c + covar(vtype[i], d, 1) * cc[i]\n",
    "    return c"
   ]
  },
  {
   "cell_type": "markdown",
   "id": "single-ribbon",
   "metadata": {},
   "source": [
    "### C_Z Correlogram MMII "
   ]
  },
  {
   "cell_type": "code",
   "execution_count": null,
   "id": "aggregate-camping",
   "metadata": {},
   "outputs": [],
   "source": [
    "# h1 = Set of points X,Y\n",
    "# h2 = Set of points X,Y\n",
    "# Corr = correlation between primary and secondary data\n",
    "# k = 0 used for calculating the distance between the same points\n",
    "# k = 1 used for calculationg distance between different points\n",
    "# k = 2 used for plotting in the major direction\n",
    "# k = 3 used for plotting in the minor direction\n",
    "def C_Z_MM2(h1, h2, k, corr,a_max_y,a_min_y,cc_y, vtype_y, a_max_r, a_min_r, cc_r,vtype_r ):\n",
    "    \n",
    "    return (C_Y_alternate(h1, h2, k,a_max_y,a_min_y,cc_y, vtype_y, nstruct = 1) * corr ** 2) + (\n",
    "        (1 - corr ** 2) * C_r (h1, h2, k, a_max_r, a_min_r, cc_r,vtype_r,nstruct = 1 )\n",
    "    )"
   ]
  },
  {
   "cell_type": "markdown",
   "id": "perceived-cholesterol",
   "metadata": {},
   "source": [
    "### Minimize function"
   ]
  },
  {
   "cell_type": "code",
   "execution_count": null,
   "id": "affected-protest",
   "metadata": {},
   "outputs": [],
   "source": [
    "def optimize_RMSE_scalling_correlogram(x, args):\n",
    "    \"\"\"\n",
    "    args : args[0] correspond au DataFrame ; args[1] correspond à la Sill_value (= 1)\n",
    "    gamma= b*second(a_min,a_max)+ c*first(a_min_g,a_max_g)\n",
    "    \"\"\"\n",
    "    \n",
    "    dict_secondary = args[0] # dictionnaire des valeurs du correlogram secondaire\n",
    "    dict_primary   = args[1] # dictionnaire des valeurs du correlogram primaire\n",
    "    corr  = args[2]\n",
    "    vtype = args[3] # chosit le type de model \n",
    "    RMSE = [] # Liste des RMSE\n",
    "    Direction = [\"Major\", \"Minor\"] #Deux directions à additionner\n",
    "    a_max_y = dict_secondary[\"a_max_y\"]\n",
    "    a_min_y = dict_secondary[\"a_min_y\"]\n",
    "    cc_y    = dict_secondary[\"cc_y\"]\n",
    "    vtype_y = dict_secondary[\"vtype_y\"]\n",
    "    \n",
    "    a_max_z = [dict_primary[\"a_max_z\"]]\n",
    "    a_min_z = [dict_primary[\"a_min_z\"]]\n",
    "    cc_z    = dict_primary[\"cc_z\"]\n",
    "    vtype_z = dict_primary[\"vtype_z\"]\n",
    "    \n",
    "    for i,Dir in enumerate(Direction) :\n",
    "        \n",
    "        # Inititialisation des matrices\n",
    "        cy = np.zeros(shape=(101))\n",
    "        cr = np.zeros(shape=(101))\n",
    "        cz_mm2 = np.zeros(shape=(101))\n",
    "        cz = np.zeros(shape=(101))\n",
    "\n",
    "        k = i + 2                # numéro de la direction \n",
    "        a_max = x[0]             # range major du model\n",
    "        a_min = x[1]             # range minor du model\n",
    "        a_range = [a_max,a_min]  # list des range\n",
    "        model_nugget = [x[2]]      # effet pépite\n",
    "        \n",
    "        for b in model_nugget :\n",
    "            for h in range(0, 101):\n",
    "                cy[h] = C_Y_alternate(np.matrix(h), np.matrix(h), k,\n",
    "                                      a_max_y,a_min_y,cc_y, vtype_y, nstruct = 1)\n",
    "                \n",
    "                cz[h] = C_Z_alternate(np.matrix(h), np.matrix(h),k,a_max_z,a_max_z,vtype_z,cc_z, nstruct = 1)\n",
    "\n",
    "                cr[h] = C_r(np.matrix(h), np.matrix(h), k,\n",
    "                            [a_max], [a_min], [b],[vtype],nstruct = 1 )\n",
    "\n",
    "                cz_mm2[h] = C_Z_MM2(np.matrix(h), np.matrix(h), k, corr,a_max_y,a_min_y,cc_y, vtype_y,\n",
    "                                    [a_max], [a_min], [b],[vtype])\n",
    "            \n",
    "        RMSE.append(np.sqrt(mean_squared_error(cz,cz_mm2)))\n",
    "    return sum(RMSE)"
   ]
  },
  {
   "cell_type": "code",
   "execution_count": null,
   "id": "duplicate-portal",
   "metadata": {},
   "outputs": [],
   "source": [
    "dict_secondary = {\"a_max_y\" : a_max_y\n",
    "                  ,\"a_min_y\" : a_min_y\n",
    "                  ,\"cc_y\" : cc_y\n",
    "                  ,\"vtype_y\" : vtype_y   \n",
    "}\n",
    "\n",
    "\n",
    "dict_primary = {\"a_max_z\" : a_max_z\n",
    "                ,\"a_min_z\" : a_min_z\n",
    "                ,\"cc_z\" : cc_z\n",
    "                ,\"vtype_z\" : vtype_z\n",
    "}"
   ]
  },
  {
   "cell_type": "code",
   "execution_count": null,
   "id": "beneficial-paper",
   "metadata": {},
   "outputs": [],
   "source": [
    "# Allocation des constantes \n",
    "# b0 : effet pepite du model 1\n",
    "#a_max_first0, a_min_first0,a_max_second0, a_min_second0, b0 = 42, 28.5, 43, 30, 1\n",
    "\n",
    "MODEL_type ={\"Spherical\" : 1,\n",
    "        \"Exponential\" : 2,\n",
    "        \"Gaussien\" : 3}\n",
    "\n",
    "MODEL_value = MODEL_type[\"Exponential\"]\n",
    "\n",
    "a_max_first0, a_min_first0, b0 = 20, 10, 1.0\n",
    "x0   = np.array([a_max_first0, a_min_first0, b0])\n",
    "\n",
    "corr, Model = corr, MODEL_value\n",
    "\n",
    "args = np.array([dict_secondary,dict_primary,corr,Model])\n",
    "\n",
    "# Boundaries \n",
    "Bounds = [[1,200], [1,200], [0,5]] # aa_max_first0, a_min_first0, b0\n",
    "\n",
    "# Minimize\n",
    "options = {\"xtol\" : 1e-5,\n",
    "           \"gtol\" : 1e-5}\n",
    "\n",
    "scalling_model = minimize(optimize_RMSE_scalling_correlogram, x0, args = args,\n",
    "                            method='TNC', jac = '3-point',\n",
    "                            bounds = Bounds,\n",
    "                      tol = 1e-9, options = options)\n",
    "\n",
    "a_max_r, a_min_r, b_r = scalling_model.x\n",
    "\n",
    "print(scalling_model,'\\n')\n",
    "\n",
    "#Réduit la précision des variables \n",
    "name_var = [\"a_max_r\", \"a_min_r\", \"b_r\"]\n",
    "number_var = [a_max_r, a_min_r, b_r]\n",
    "\n",
    "for name,number in zip(name_var,number_var) :\n",
    "    if name == \"b_r\" :\n",
    "        locals()[f\"{name}\"] = float(\"{:.1f}\".format(number))\n",
    "    else :\n",
    "        locals()[f\"{name}\"] = float(\"{:.0f}\".format(number))\n",
    "    print(name,\":\",locals()[f\"{name}\"])"
   ]
  },
  {
   "cell_type": "code",
   "execution_count": null,
   "id": "little-updating",
   "metadata": {},
   "outputs": [],
   "source": [
    "a_max_r, a_min_r, b_r = scalling_model.x\n",
    "print(a_max_r, a_min_r, b_r )"
   ]
  },
  {
   "cell_type": "code",
   "execution_count": null,
   "id": "radical-basics",
   "metadata": {},
   "outputs": [],
   "source": [
    "varg_type = 2  # See Correlogram Functions\n",
    "vtype_r = Model\n",
    "cc_r = b_r\n",
    "\n",
    "for Dir in Directions:\n",
    "    for h in range(0, 101):\n",
    "        \n",
    "        cy[h]= C_Y_alternate(np.matrix(h), np.matrix(h), varg_type,\n",
    "                                       a_max_y,a_min_y,\n",
    "                                       cc_y, vtype_y, nstruct = 1)\n",
    "        \n",
    "        cz_True[h] = C_Z_alternate(np.matrix(h), np.matrix(h),varg_type,[a_max_z],[a_min_z],vtype_z,cc_z)\n",
    "        \n",
    "        cz[h] = C_Z_MM2(np.matrix(h), np.matrix(h), varg_type, corr,a_max_y,a_min_y,cc_y, vtype_y,\n",
    "                        [a_max_r], [a_min_r], [cc_r],[vtype_r] )\n",
    "        \n",
    "        cr[h] = C_r (np.matrix(h), np.matrix(h), varg_type, [a_max_r], [a_min_r], [cc_r],[vtype_r],nstruct = 1 )\n",
    "        \n",
    "        H[h] = h\n",
    "    MM_vargs = [cz_True, cy, cz]\n",
    "    fig, axes = plt.subplots(1, 1, figsize=(10, 10))\n",
    "    for i in range(0, 3):\n",
    "        axes.plot(H, MM_vargs[i], color=colors[i], label=labels_MM[i])\n",
    "        if (i + 1) < 3:\n",
    "            var = locals()[\"varc_{}\".format(i + 1)]\n",
    "            axes.plot(\n",
    "                var[\"Lag Distance\"][\n",
    "                    var[\"Variogram Index\"] == (varg_type - 1)\n",
    "                ],\n",
    "                Sill_vals[i]\n",
    "                - var[\"Variogram Value\"][\n",
    "                    var[\"Variogram Index\"] == (varg_type - 1)\n",
    "                ],\n",
    "                \"ro\",\n",
    "                color=colors[i],\n",
    "                label=labels_1[i],\n",
    "            )\n",
    "\n",
    "    axes.plot(H, ones, color=\"Black\")\n",
    "    axes.grid()\n",
    "    plt.xlim(0, 101)\n",
    "    plt.ylim(-0.1, 1)\n",
    "    plt.ylabel(\"\\u03C1(h)\", size=35)\n",
    "    plt.xlabel(\"h\", size=35)\n",
    "    plt.title(\n",
    "        \"MMI and MMII Correlogram Comparison {} Direction\".format(Dir),\n",
    "        size=25,\n",
    "    )\n",
    "    axes.legend(loc=\"best\", prop={\"size\": 35})\n",
    "    plt.savefig(\"MM1_MM2_var_{}\".format(Dir), bbox_inches=\"tight\", dpi=300)\n",
    "    varg_type = varg_type + 1"
   ]
  },
  {
   "cell_type": "markdown",
   "id": "documentary-asbestos",
   "metadata": {},
   "source": [
    "## Data Statistics"
   ]
  },
  {
   "cell_type": "code",
   "execution_count": null,
   "id": "stopped-layout",
   "metadata": {},
   "outputs": [],
   "source": [
    "Primary"
   ]
  },
  {
   "cell_type": "code",
   "execution_count": null,
   "id": "voluntary-alpha",
   "metadata": {},
   "outputs": [],
   "source": [
    "Mean_Z = np.average(Primary[\"Primary\"])\n",
    "STD_Z = 1.0\n",
    "print(Mean_Z)\n",
    "print(STD_Z)"
   ]
  },
  {
   "cell_type": "code",
   "execution_count": null,
   "id": "certain-courtesy",
   "metadata": {},
   "outputs": [],
   "source": [
    "Mean_Y = np.average(Primary[\"Secondary\"])\n",
    "STD_Y = 1.0\n",
    "print(Mean_Y)\n",
    "print(STD_Y)"
   ]
  },
  {
   "cell_type": "markdown",
   "id": "deluxe-percentage",
   "metadata": {},
   "source": [
    "## Create a KDTree to Quickly Get Nearest Points"
   ]
  },
  {
   "cell_type": "code",
   "execution_count": null,
   "id": "conventional-milton",
   "metadata": {},
   "outputs": [],
   "source": [
    "from sklearn.neighbors import KDTree"
   ]
  },
  {
   "cell_type": "code",
   "execution_count": null,
   "id": "judicial-journal",
   "metadata": {},
   "outputs": [],
   "source": [
    "def ech_data_kdtree(x,y,z,ech) :\n",
    "    \"\"\"\n",
    "    Fonction qui ré-echantillonne avant l'utilisation d'un KD Tree\n",
    "    \"\"\"\n",
    "    low_quality_secondary = pd.DataFrame()\n",
    "    x_ech = x[::ech]\n",
    "    low_quality_secondary[\"x\"] = x_ech\n",
    "    y_ech = y[::ech]\n",
    "    low_quality_secondary[\"y\"] = y_ech\n",
    "    z_ech = z[::ech]\n",
    "    low_quality_secondary[\"z\"] = z_ech\n",
    "    \n",
    "    return low_quality_secondary,x_ech,y_ech,z_ech"
   ]
  },
  {
   "cell_type": "code",
   "execution_count": null,
   "id": "quantitative-ceremony",
   "metadata": {},
   "outputs": [],
   "source": [
    "Secondary.head()"
   ]
  },
  {
   "cell_type": "code",
   "execution_count": null,
   "id": "speaking-great",
   "metadata": {},
   "outputs": [],
   "source": [
    "##MATRICES NON ECHANTILLONEE\n",
    "x = Secondary[\"X\"].values\n",
    "y = Secondary[\"Y\"].values\n",
    "z = Secondary[\"Secondary\"].values\n",
    "\n",
    "# MATRICES ECHANTILLONEES\n",
    "ech = 1\n",
    "df_kriging,x_ech,y_ech,z_ech = ech_data_kdtree(x,y,z,ech)"
   ]
  },
  {
   "cell_type": "code",
   "execution_count": null,
   "id": "religious-technology",
   "metadata": {},
   "outputs": [],
   "source": [
    "#Constitution d'un KD Tree, Primary data\n",
    "datafl_XY = Primary[[\"x\", \"y\"]].values\n",
    "datafl = Primary\n",
    "tree = KDTree(datafl_XY)\n",
    "Pred_grid_xy = np.matrix([x, y]).T\n",
    "\n",
    "#Constitution d'un KD Tree, Secondary data\n",
    "datafl_sec = Secondary\n",
    "datafl_XY_2nd = Secondary[[\"X\", \"Y\"]].values\n",
    "tree_2nd = KDTree(datafl_XY_2nd)"
   ]
  },
  {
   "cell_type": "code",
   "execution_count": null,
   "id": "opposite-detection",
   "metadata": {},
   "outputs": [],
   "source": [
    "# Aperçu de la zone d'étude \n",
    "fig,ax=plt.subplots(1,2, figsize = (15,10))\n",
    "img0 = ax[0].scatter(x_ech, y_ech,c = z_ech , vmin = -3, vmax = 3)\n",
    "ax[0].set_xlabel('X')\n",
    "ax[0].set_ylabel('Y')\n",
    "ax[0].grid()\n",
    "ax[0].set_title(\"Données échantillonée, ech = \" + str(ech))\n",
    "fig.colorbar(img0, ax=ax[0])\n",
    "\n",
    "img0 = ax[1].scatter(x,y,c = z,vmin = -3, vmax = 3)\n",
    "ax[1].set_xlabel('X')\n",
    "ax[1].set_ylabel('Y')\n",
    "ax[1].grid()\n",
    "fig.colorbar(img0, ax=ax[1])\n"
   ]
  },
  {
   "cell_type": "markdown",
   "id": "banner-rider",
   "metadata": {},
   "source": [
    "### Primary Data Search for Kriging"
   ]
  },
  {
   "cell_type": "code",
   "execution_count": null,
   "id": "harmful-silicon",
   "metadata": {},
   "outputs": [],
   "source": [
    "group"
   ]
  },
  {
   "cell_type": "code",
   "execution_count": null,
   "id": "global-recruitment",
   "metadata": {},
   "outputs": [],
   "source": [
    "k_p = 8  # number of data to use ( limitée au nombre de sonde = 9)\n",
    "X_Y = np.zeros((len(x), k_p, 2))\n",
    "X_Y_Star = np.zeros((len(x), k_p, 2))\n",
    "closematrix_Primary = np.zeros((len(x), k_p))\n",
    "closematrix_Secondary = np.zeros((len(x), k_p))\n",
    "neardistmatrix = np.zeros((len(x), k_p))\n",
    "\n",
    "for i in range(0, len(x)):\n",
    "    nearest_dist, nearest_ind = tree.query(Pred_grid_xy[i : i + 1, :], k=k_p)\n",
    "    a = nearest_ind.ravel()\n",
    "    group = datafl.iloc[a, :]\n",
    "    closematrix_Primary[i, :] = group[\"Primary\"]\n",
    "    closematrix_Secondary[i, :] = group[\"Secondary\"]\n",
    "    neardistmatrix[i, :] = nearest_dist\n",
    "    X_Y[i, :, :] = group[[\"x\", \"y\"]]"
   ]
  },
  {
   "cell_type": "markdown",
   "id": "suffering-numbers",
   "metadata": {},
   "source": [
    "### Secondary Data Search for CoKriging"
   ]
  },
  {
   "cell_type": "code",
   "execution_count": null,
   "id": "official-coast",
   "metadata": {},
   "outputs": [],
   "source": [
    "X_Y_2nd = np.zeros((len(x), k_p, 2))\n",
    "closematrix_Secondary_2nd = np.zeros((len(x), k_p))\n",
    "for i in range(0, len(x)):\n",
    "    nearest_dist, nearest_ind = tree_2nd.query(\n",
    "        Pred_grid_xy[i : i + 1, :], k=k_p\n",
    "    )\n",
    "    a = nearest_ind.ravel()\n",
    "    group = datafl_sec.iloc[a, :]\n",
    "    closematrix_Secondary_2nd[i, :] = group[\"Secondary\"]\n",
    "    X_Y_2nd[i, :, :] = group[[\"X\", \"Y\"]]"
   ]
  },
  {
   "cell_type": "markdown",
   "id": "existing-classic",
   "metadata": {},
   "source": [
    "## Recap des models de variogrammes"
   ]
  },
  {
   "cell_type": "code",
   "execution_count": null,
   "id": "federal-examination",
   "metadata": {},
   "outputs": [],
   "source": [
    "print(\"Premier Correlogram\") \n",
    "print(\"a_max_z :\",a_max_z,\n",
    "      \"a_min_z :\",a_min_z,\n",
    "      \"vtype_z :\",vtype_z,\n",
    "      \"cc_z :\",cc_z)"
   ]
  },
  {
   "cell_type": "code",
   "execution_count": null,
   "id": "inclusive-blond",
   "metadata": {},
   "outputs": [],
   "source": [
    "print(\"Second Correlogram\") \n",
    "print(\"a_max_y :\",a_max_y,\n",
    "      \"a_min_y :\",a_min_y,\n",
    "      \"vtype_y :\",vtype_y,\n",
    "      \"cc_y :\",cc_y)"
   ]
  },
  {
   "cell_type": "code",
   "execution_count": null,
   "id": "previous-arnold",
   "metadata": {},
   "outputs": [],
   "source": [
    "print(\"Cross Correlogram\") \n",
    "print(\"a_max_zy :\",a_max_zy,\n",
    "      \"a_min_zy :\",a_min_zy,\n",
    "      \"vtype_zy :\",vtype_zy,\n",
    "      \"cc_zy :\",cc_zy)"
   ]
  },
  {
   "cell_type": "code",
   "execution_count": null,
   "id": "played-danish",
   "metadata": {},
   "outputs": [],
   "source": [
    "print(\"Cross Correlogram C_Z MMII\") \n",
    "print(\"a_max_r :\",a_max_r,\n",
    "      \"a_min_r :\",a_min_r,\n",
    "      \"vtype_r :\",vtype_r,\n",
    "      \"cc_r :\",cc_r)"
   ]
  },
  {
   "cell_type": "markdown",
   "id": "atomic-toner",
   "metadata": {},
   "source": [
    "## Simple Kriging"
   ]
  },
  {
   "cell_type": "code",
   "execution_count": null,
   "id": "economic-button",
   "metadata": {},
   "outputs": [],
   "source": [
    "est_SK = np.zeros(shape=(len(x_ech)))\n",
    "\n",
    "for z in tqdm(range(0, len(x_ech))):\n",
    "    Kriging_Matrix = np.zeros(shape=((k_p, k_p)))\n",
    "    # h = distance_matrix(X_Y[z,:,:].tolist(),X_Y[z,:,:].tolist())\n",
    "    # C_ZZ\n",
    "    Kriging_Matrix = C_Z_alternate(X_Y[z, :, :], X_Y[z, :, :],0,[a_max_z],[a_min_z],vtype_z,cc_z )\n",
    "    # Set up Right Hand Side\n",
    "    # print(Kriging_Matrix.reshape(((k_p)),((k_p))))\n",
    "    r = np.zeros(shape=(k_p))\n",
    "    k_p_weights = r\n",
    "    # RHS #C_z*\n",
    "    r = C_Z_alternate(X_Y[z, :, :], np.tile(Pred_grid_xy[z], (k_p, 1)), 1,[a_max_z],[a_min_z],vtype_z,cc_z )\n",
    "    Kriging_Matrix.reshape(((k_p)), ((k_p)))\n",
    "    # Calculate Kriging Weights\n",
    "    try:\n",
    "        k_weights = np.dot(np.linalg.inv(Kriging_Matrix), r)\n",
    "    except:\n",
    "        s_m = s_m + 1\n",
    "        sm_idx.append(z)\n",
    "        k_weights = np.dot(scipy.linalg.pinv(Kriging_Matrix), r)\n",
    "    # Start Est at zero\n",
    "    est_SK[z] = 0\n",
    "    # add in mean_z\n",
    "    est_SK[z] = est_SK[z] + Mean_Z\n",
    "    for i in range(0, k_p):\n",
    "        # add in Z_i\n",
    "        est_SK[z] = est_SK[z] + k_weights[i] * (\n",
    "            closematrix_Primary[z, i] - Mean_Z\n",
    "        )"
   ]
  },
  {
   "cell_type": "markdown",
   "id": "opened-library",
   "metadata": {},
   "source": [
    "## Full Cokriging"
   ]
  },
  {
   "cell_type": "code",
   "execution_count": null,
   "id": "threatened-holly",
   "metadata": {},
   "outputs": [],
   "source": [
    "cz = np.zeros(shape=(k_p, k_p))\n",
    "czy = np.zeros(shape=(k_p, k_p))\n",
    "czy_2 = np.zeros(shape=(k_p, k_p))\n",
    "cy = np.zeros(shape=(k_p, k_p))\n",
    "s_m = 0\n",
    "sm_idx = []\n",
    "est_Full_CCK = np.zeros(shape=(len(x)))\n",
    "for z in tqdm(range(0, len(x))):\n",
    "    Kriging_Matrix = np.zeros(shape=((k_p * 2), (k_p * 2)))\n",
    "    # C_ZZ\n",
    "    cz = C_Z_alternate(X_Y[z, :, :], X_Y[z, :, :],0,[a_max_z],[a_min_z],vtype_z,cc_z )\n",
    "    # C_ZY\n",
    "    czy = C_ZY(X_Y[z, :, :], X_Y_2nd[z, :, :], 0, a_max_zy,a_min_zy,1, vtype_zy, nstruct = 1)\n",
    "    czy_2 = C_ZY(X_Y_2nd[z, :, :], X_Y[z, :, :], 0, a_max_zy,a_min_zy,1, vtype_zy, nstruct = 1)\n",
    "    # C_YY\n",
    "    cy = C_Y_alternate(X_Y_2nd[z, :, :], X_Y_2nd[z, :, :], 0, a_max_y, a_min_y,cc_y,vtype_y,nstruct = 1 )\n",
    "    Kriging_Matrix = np.vstack(\n",
    "        (np.hstack((cz, czy)), np.hstack((czy.T, cy)))\n",
    "    )\n",
    "    # print(Kriging_Matrix)\n",
    "    # Set up Right Hand Sides\n",
    "    r = np.zeros(shape=(k_p * 2))\n",
    "    k_p_weights = np.zeros(shape=(k_p * 2))\n",
    "    # RHS #C_z*\n",
    "    r[0:k_p] = C_Z_alternate(X_Y[z, :, :], np.tile(Pred_grid_xy[z], (k_p, 1)), 1,[a_max_z],[a_min_z],vtype_z,cc_z )\n",
    "    # RHS #C_zy*\n",
    "    r[k_p : k_p * 2] = C_ZY(\n",
    "        X_Y_2nd[z, :, :], np.tile(Pred_grid_xy[z], (k_p, 1)), 1, a_max_zy,a_min_zy,1, vtype_zy, nstruct = 1)\n",
    "    # Calculate Kriging Weights\n",
    "    try:\n",
    "        k_p_weights = np.dot(np.linalg.inv(Kriging_Matrix), r)\n",
    "    except:\n",
    "        s_m = s_m + 1\n",
    "        sm_idx.append(z)\n",
    "        k_p_weights = np.dot(scipy.linalg.pinv(Kriging_Matrix), r)\n",
    "    # Start Est at zero\n",
    "    est_Full_CCK[z] = 0\n",
    "    # add in mean_z\n",
    "    est_Full_CCK[z] = est_Full_CCK[z] + Mean_Z\n",
    "    for i in range(0, k_p):\n",
    "        # add in Z_i\n",
    "        est_Full_CCK[z] = (\n",
    "            est_Full_CCK[z]\n",
    "            + k_p_weights[i] * (closematrix_Primary[z, i] - Mean_Z) / STD_Z\n",
    "        )\n",
    "        # add in Y_i\n",
    "        est_Full_CCK[z] = (\n",
    "            est_Full_CCK[z]\n",
    "            + k_p_weights[i + k_p]\n",
    "            * (closematrix_Secondary_2nd[z, i] - Mean_Y)\n",
    "            / STD_Y\n",
    "        )\n",
    "print(\"There where {} Singular Matrices\".format(s_m))"
   ]
  },
  {
   "cell_type": "markdown",
   "id": "floral-philip",
   "metadata": {},
   "source": [
    "## Intrinsic Collocated Cokriging - MM1"
   ]
  },
  {
   "cell_type": "code",
   "execution_count": null,
   "id": "brave-philip",
   "metadata": {},
   "outputs": [],
   "source": [
    "k = k_p\n",
    "s_m = 0\n",
    "sm_idx = []\n",
    "cz = np.zeros(shape=(k, k))\n",
    "czy = np.zeros(shape=(k, k))\n",
    "cy = np.zeros(shape=(k, k))\n",
    "est_icck_MM1 = np.zeros(shape=(len(x)))\n",
    "for z in tqdm(range(0, len(x))):\n",
    "    Kriging_Matrix = np.zeros(shape=((k * 2 + 1), (k * 2 + 1)))\n",
    "    # C_ZZ\n",
    "    cz = C_Z_alternate(X_Y[z, :, :], X_Y[z, :, :], 0,[a_max_z],[a_min_z],vtype_z,cc_z )\n",
    "    # C_ZY\n",
    "    czy = C_Z_alternate(X_Y[z, :, :], X_Y[z, :, :], 0,[a_max_z],[a_min_z],vtype_z,cc_z ) * corr\n",
    "    # C_YY\n",
    "    cy = C_Z_alternate(X_Y[z, :, :], X_Y[z, :, :], 0,[a_max_z],[a_min_z],vtype_z,cc_z )\n",
    "    # Set up Right Hand Side\n",
    "    Kriging_Matrix[0 : k * 2, 0 : k * 2] = np.vstack(\n",
    "        (np.hstack((cz, czy)), np.hstack((czy.T, cy)))\n",
    "    )\n",
    "    # print(Kriging_Matrix.reshape(((2*k)+1),((2*k)+1)))\n",
    "    r = np.zeros(shape=(k * 2) + 1)\n",
    "    k_weights = r\n",
    "    # RHS #C_z*\n",
    "    r[0:k] = C_Z_alternate(X_Y[z, :, :], np.tile(Pred_grid_xy[z], (k, 1)), 1,[a_max_z],[a_min_z],vtype_z,cc_z,1 )\n",
    "    # RHS #C_yz*\n",
    "    r[k : k * 2] = (\n",
    "        C_Z_alternate(X_Y[z, :, :], np.tile(Pred_grid_xy[z], (k, 1)), 1,[a_max_z],[a_min_z],vtype_z,cc_z,1 ) * corr\n",
    "    )\n",
    "    # RHS corr\n",
    "    r[k * 2] = corr\n",
    "    # Dans le cas du MM1, le Kriging_Matrix est calculé par rapport au correlogram C_Z et0 du facteur de cor\n",
    "    # c_zy \n",
    "    Kriging_Matrix[k * 2, 0:k] = (\n",
    "        C_Z_alternate(X_Y[z, :, :], np.tile(Pred_grid_xy[z], (k, 1)), 1,[a_max_z],[a_min_z],vtype_z,cc_z,1 ) * corr\n",
    "    )\n",
    "    Kriging_Matrix[0:k, k * 2] = (\n",
    "        C_Z_alternate(X_Y[z, :, :], np.tile(Pred_grid_xy[z], (k, 1)), 1,[a_max_z],[a_min_z],vtype_z,cc_z,1 ) * corr\n",
    "    )\n",
    "    # c_z\n",
    "    Kriging_Matrix[k * 2, k : k * 2] = C_Z_alternate(\n",
    "        X_Y[z, :, :], np.tile(Pred_grid_xy[z], (k, 1)), 1\n",
    "    ,[a_max_z],[a_min_z],vtype_z,cc_z,1 )\n",
    "    Kriging_Matrix[k : k * 2, k * 2] = C_Z_alternate(\n",
    "        X_Y[z, :, :], np.tile(Pred_grid_xy[z], (k, 1)), 1\n",
    "    ,[a_max_z],[a_min_z],vtype_z,cc_z,1 )\n",
    "    \n",
    "    Kriging_Matrix[k * 2, k * 2] = 1 # La valeur finale des weights est posée à 1\n",
    "    # Calculate Kriging Weights\n",
    "    try:\n",
    "        k_weights = np.dot(np.linalg.inv(Kriging_Matrix), r)\n",
    "    except:\n",
    "        s_m = s_m + 1\n",
    "        sm_idx.append(z)\n",
    "        k_weights = np.dot(scipy.linalg.pinv(Kriging_Matrix), r)\n",
    "    # Start Est at zero\n",
    "    est_icck_MM1[z] = 0\n",
    "    # add in mean_z\n",
    "    est_icck_MM1[z] = est_icck_MM1[z] + Mean_Z\n",
    "    # add in the Y_0\n",
    "    est_icck_MM1[z] = (\n",
    "        est_icck_MM1[z]\n",
    "        + k_weights[k * 2] * (datafl_sec[\"Secondary\"][z] - Mean_Y) / STD_Y\n",
    "    )\n",
    "    for i in range(0, k):\n",
    "        # add in Z_i\n",
    "        est_icck_MM1[z] = (\n",
    "            est_icck_MM1[z]\n",
    "            + k_weights[i] * (closematrix_Primary[z, i] - Mean_Z) / STD_Z\n",
    "        )\n",
    "        # add in Y_i\n",
    "        est_icck_MM1[z] = (\n",
    "            est_icck_MM1[z]\n",
    "            + k_weights[i + k]\n",
    "            * (closematrix_Secondary[z, i] - Mean_Y)\n",
    "            / STD_Y\n",
    "        )\n",
    "print(\"There where {} Singular Matrices\".format(s_m))"
   ]
  },
  {
   "cell_type": "code",
   "execution_count": null,
   "id": "acting-narrow",
   "metadata": {},
   "outputs": [],
   "source": [
    "vtype_y"
   ]
  },
  {
   "cell_type": "markdown",
   "id": "disabled-placement",
   "metadata": {},
   "source": [
    "## Intrinsic Collocated Cokriging - MM2"
   ]
  },
  {
   "cell_type": "code",
   "execution_count": null,
   "id": "premium-birth",
   "metadata": {},
   "outputs": [],
   "source": [
    "k = k_p\n",
    "s_m = 0\n",
    "sm_idx = []\n",
    "cz = np.zeros(shape=(k, k))\n",
    "czy = np.zeros(shape=(k, k))\n",
    "cy = np.zeros(shape=(k, k))\n",
    "est_icck_MM2 = np.zeros(shape=(len(x)))\n",
    "for z in tqdm(range(0, len(x))):\n",
    "    Kriging_Matrix = np.zeros(shape=((k * 2 + 1), (k * 2 + 1)))\n",
    "    # C_ZZ\n",
    "    # 1\n",
    "    # C_Z_MM2(X_Y[z, :, :], X_Y[z, :, :], 0, corr)\n",
    "        \n",
    "    cz = C_Z_MM2(X_Y[z, :, :], X_Y[z, :, :], 0, corr,a_max_y,a_min_y,cc_y, vtype_y,\n",
    "                        [a_max_r], [a_min_r], [cc_r],[vtype_r] )\n",
    "    # C_ZY\n",
    "    # 2,#3\n",
    "    # corr * C_Y(X_Y[z, :, :], X_Y[z, :, :], 0)\n",
    "    czy = C_Y_alternate(X_Y[z, :, :], X_Y[z, :, :], 0,\n",
    "                                       a_max_y,a_min_y,\n",
    "                                       cc_y, vtype_y, nstruct = 1)\n",
    "    # C_YY\n",
    "    # 4\n",
    "    # C_Y(X_Y[z, :, :], X_Y[z, :, :], 0)\n",
    "    cy = C_Y_alternate(X_Y[z, :, :], X_Y[z, :, :], 0,\n",
    "                                       a_max_y,a_min_y,\n",
    "                                       cc_y, vtype_y, nstruct = 1)\n",
    "    # Set up Right Hand Side\n",
    "    # print(Kriging_Matrix.reshape(((2*k)+1),((2*k)+1)))\n",
    "    Kriging_Matrix[0 : k * 2, 0 : k * 2] = np.vstack(\n",
    "        (np.hstack((cz, czy)), np.hstack((czy.T, cy)))\n",
    "    )\n",
    "    r = np.zeros(shape=(k * 2) + 1)\n",
    "    k_weights = r\n",
    "    # RHS #C_z*\n",
    "    # 5\n",
    "    r[0:k] = C_Z_MM2(\n",
    "        X_Y[z, :, :], np.tile(Pred_grid_xy[z], (k, 1)), 1, corr,a_max_y,a_min_y,cc_y, vtype_y,\n",
    "                        [a_max_r], [a_min_r], [cc_r],[vtype_r] )\n",
    "    # RHS #C_yz*\n",
    "    # 6\n",
    "    r[k : k * 2] = (\n",
    "        C_Y_alternate(X_Y[z, :, :], np.tile(Pred_grid_xy[z], (k, 1)), 1,\n",
    "                                       a_max_y,a_min_y,\n",
    "                                       cc_y, vtype_y, nstruct = 1) * corr\n",
    "    )\n",
    "    # RHS corr\n",
    "    # 7\n",
    "    r[k * 2] = corr\n",
    "    # c_zy\n",
    "    # 8\n",
    "    Kriging_Matrix[k * 2, 0:k] = (\n",
    "        C_Y_alternate(X_Y[z, :, :], np.tile(Pred_grid_xy[z], (k, 1)),1,\n",
    "                                       a_max_y,a_min_y,\n",
    "                                       cc_y, vtype_y, nstruct = 1) * corr\n",
    "    )\n",
    "    Kriging_Matrix[0:k, k * 2] = (\n",
    "        C_Y_alternate(X_Y[z, :, :], np.tile(Pred_grid_xy[z], (k, 1)),1,\n",
    "                                       a_max_y,a_min_y,\n",
    "                                       cc_y, vtype_y, nstruct = 1) * corr\n",
    "    )\n",
    "    # c_y\n",
    "    # 9\n",
    "    Kriging_Matrix[k * 2, k : k * 2] = C_Y_alternate(\n",
    "        X_Y[z, :, :], np.tile(Pred_grid_xy[z], (k, 1)),1,\n",
    "                                       a_max_y,a_min_y,\n",
    "                                       cc_y, vtype_y, nstruct = 1)\n",
    "    \n",
    "    Kriging_Matrix[k : k * 2, k * 2] = C_Y_alternate(\n",
    "        X_Y[z, :, :], np.tile(Pred_grid_xy[z], (k, 1)),1,\n",
    "                                       a_max_y,a_min_y,\n",
    "                                       cc_y, vtype_y, nstruct = 1)\n",
    "    \n",
    "    Kriging_Matrix[k * 2, k * 2] = 1\n",
    "    # Kriging_Matrix.reshape(((2*k)+1),((2*k)+1))\n",
    "    # Calculate Kriging Weights\n",
    "    try:\n",
    "        k_weights = np.dot(np.linalg.inv(Kriging_Matrix), r)\n",
    "    except:\n",
    "        s_m = s_m + 1\n",
    "        sm_idx.append(z)\n",
    "        k_weights = np.dot(scipy.linalg.pinv(Kriging_Matrix), r)\n",
    "    # Start Est at zero\n",
    "    est_icck_MM2[z] = 0\n",
    "    # add in mean_z\n",
    "    est_icck_MM2[z] = est_icck_MM2[z] + Mean_Z\n",
    "    # add in the Y_0\n",
    "    est_icck_MM2[z] = (\n",
    "        est_icck_MM2[z]\n",
    "        + k_weights[k * 2] * (datafl_sec[\"Secondary\"][z] - Mean_Y) / STD_Y\n",
    "    )\n",
    "    for i in range(0, k):\n",
    "        # add in Z_i\n",
    "        est_icck_MM2[z] = (\n",
    "            est_icck_MM2[z]\n",
    "            + k_weights[i] * (closematrix_Primary[z, i] - Mean_Z) / STD_Z\n",
    "        )\n",
    "        # add in Y_i\n",
    "        est_icck_MM2[z] = (\n",
    "            est_icck_MM2[z]\n",
    "            + k_weights[i + k]\n",
    "            * (closematrix_Secondary[z, i] - Mean_Y)\n",
    "            / STD_Y\n",
    "        )\n",
    "print(\"There where {} Singular Matrices\".format(s_m))"
   ]
  },
  {
   "cell_type": "markdown",
   "id": "realistic-lawyer",
   "metadata": {},
   "source": [
    "##  Setup Dictionary of Results"
   ]
  },
  {
   "cell_type": "code",
   "execution_count": null,
   "id": "noted-richards",
   "metadata": {},
   "outputs": [],
   "source": [
    "ktypes = [\"SK\", \"SCK\",\"ICC_MM1\",\"ICC_MM2\"]\n",
    "k_est = [\n",
    "    est_SK,\n",
    "    est_Full_CCK,\n",
    "    est_icck_MM1,\n",
    "    est_icck_MM2\n",
    "]\n",
    "ktypes_vals_dict = {}\n",
    "j = 0\n",
    "for i in ktypes:\n",
    "    ktypes_vals_dict[i] = {\n",
    "        \"Estimate\": k_est[j],\n",
    "        \"Mean\": np.mean(k_est[j]),\n",
    "        \"Variance\": np.var(k_est[j]),\n",
    "    }\n",
    "    j = j + 1"
   ]
  },
  {
   "cell_type": "code",
   "execution_count": null,
   "id": "matched-doubt",
   "metadata": {
    "scrolled": true
   },
   "outputs": [],
   "source": [
    "# Aperçu de la zone d'étude \n",
    "fig,ax=plt.subplots(1,4, figsize = (30,10))\n",
    "for i,types in enumerate(ktypes) :\n",
    "    df_kriging[\"Estimate_\"+types] = ktypes_vals_dict[types][\"Estimate\"]\n",
    "    Z = df_kriging[\"Estimate_\"+types].values\n",
    "    \n",
    "    img0 = ax[i].scatter(x_ech, y_ech,c = Z , vmin = -3, vmax = 3)\n",
    "    ax[i].set_xlabel('X')\n",
    "    ax[i].set_ylabel('Y')\n",
    "    ax[i].grid()\n",
    "    ax[i].set_title(types)\n",
    "    fig.colorbar(img0, ax=ax[i])"
   ]
  },
  {
   "cell_type": "code",
   "execution_count": null,
   "id": "suitable-packaging",
   "metadata": {
    "scrolled": false
   },
   "outputs": [],
   "source": [
    "# Aperçu de la zone d'étude \n",
    "fig,ax=plt.subplots(1,1, figsize = (10,10))\n",
    "types = \"ICC_MM1\"\n",
    "df_kriging[\"Estimate_\"+types] = ktypes_vals_dict[types][\"Estimate\"]* original_variance_z + original_mean_z\n",
    "Z = df_kriging[\"Estimate_\"+types].values\n",
    "\n",
    "img0 = ax.scatter(x_ech, y_ech,c = Z , vmin = 0 , vmax = 10)\n",
    "ax.set_xlabel('X')\n",
    "ax.set_ylabel('Y')\n",
    "ax.grid()\n",
    "ax.set_title(types)\n",
    "fig.colorbar(img0, ax=ax, label = \"°C\")"
   ]
  },
  {
   "cell_type": "code",
   "execution_count": null,
   "id": "divided-honor",
   "metadata": {
    "scrolled": false
   },
   "outputs": [],
   "source": [
    "print(\"Z max :\",Z.max())\n",
    "print(\"Z min :\",Z.min())"
   ]
  },
  {
   "cell_type": "markdown",
   "id": "suffering-jason",
   "metadata": {},
   "source": [
    "# RMSE et Validation"
   ]
  },
  {
   "cell_type": "code",
   "execution_count": null,
   "id": "approved-hierarchy",
   "metadata": {
    "scrolled": true
   },
   "outputs": [],
   "source": [
    "fig,ax=plt.subplots(1,2, figsize = (25,12))\n",
    "for i,types in enumerate([\"SCK\",\"ICC_MM1\"]) :\n",
    "    df_kriging[\"Estimate_\"+types] = ktypes_vals_dict[types][\"Estimate\"] \n",
    "    Z = df_kriging[\"Estimate_\"+types].values\n",
    "    \n",
    "    img0 = ax[i].scatter(x_ech, y_ech,c = Z , vmin = Z.min() , vmax = 10)\n",
    "    ax[i].set_xlabel('X')\n",
    "    ax[i].set_ylabel('Y')\n",
    "    ax[i].grid()\n",
    "    ax[i].set_title(types)\n",
    "    fig.colorbar(img0, ax=ax[i])"
   ]
  },
  {
   "cell_type": "code",
   "execution_count": null,
   "id": "ideal-recipe",
   "metadata": {},
   "outputs": [],
   "source": [
    "ktypes_vals_dict[type_1][\"Estimate\"]"
   ]
  },
  {
   "cell_type": "code",
   "execution_count": null,
   "id": "adjusted-representative",
   "metadata": {
    "scrolled": true
   },
   "outputs": [],
   "source": [
    "# Aperçu de la zone d'étude \n",
    "## * original_variance_z + original_mean_z\n",
    "fig,ax=plt.subplots(1,1, figsize = (10,10))\n",
    "type_1 = \"ICC_MM2\"\n",
    "type_2 = \"ICC_MM1\"\n",
    "Z_1 = df_kriging[\"Estimate_\"+type_1] = ktypes_vals_dict[type_1][\"Estimate\"]\n",
    "Z_2 = df_kriging[\"Estimate_\"+type_2] = ktypes_vals_dict[type_2][\"Estimate\"]\n",
    "Z = np.absolute(Z_2-Z_1)\n",
    "\n",
    "img0 = ax.scatter(x_ech, y_ech,c = Z , vmin = 0 ,vmax = 1)\n",
    "ax.set_xlabel('X')\n",
    "ax.set_ylabel('Y')\n",
    "ax.grid()\n",
    "ax.set_title(type_1 + \"vs\" + type_2)\n",
    "fig.colorbar(img0, ax=ax, label = \"°C\")"
   ]
  },
  {
   "cell_type": "code",
   "execution_count": 531,
   "id": "demanding-namibia",
   "metadata": {},
   "outputs": [
    {
     "name": "stdout",
     "output_type": "stream",
     "text": [
      "Z max : 5.90176449318303\n",
      "Z min : 2.331590853721366e-08\n"
     ]
    }
   ],
   "source": [
    "print(\"Z max :\",Z.max())\n",
    "print(\"Z min :\",Z.min())"
   ]
  }
 ],
 "metadata": {
  "kernelspec": {
   "display_name": "Python 3",
   "language": "python",
   "name": "python3"
  },
  "language_info": {
   "codemirror_mode": {
    "name": "ipython",
    "version": 3
   },
   "file_extension": ".py",
   "mimetype": "text/x-python",
   "name": "python",
   "nbconvert_exporter": "python",
   "pygments_lexer": "ipython3",
   "version": "3.8.8"
  }
 },
 "nbformat": 4,
 "nbformat_minor": 5
}
